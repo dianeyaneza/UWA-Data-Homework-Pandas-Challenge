{
 "cells": [
  {
   "cell_type": "markdown",
   "metadata": {},
   "source": [
    "\n",
    "## Purchasing Analysis (Gender)"
   ]
  },
  {
   "cell_type": "markdown",
   "metadata": {},
   "source": [
    "### Note\n",
    "* Instructions have been included for each segment. You do not have to follow them exactly, but they are included to help you think through the steps."
   ]
  },
  {
   "cell_type": "code",
   "execution_count": 604,
   "metadata": {},
   "outputs": [
    {
     "output_type": "execute_result",
     "data": {
      "text/plain": [
       "     Purchase ID             SN  Age  Gender  Item ID  \\\n",
       "0              0        Lisim78   20    Male      108   \n",
       "1              1    Lisovynya38   40    Male      143   \n",
       "2              2     Ithergue48   24    Male       92   \n",
       "3              3  Chamassasya86   24    Male      100   \n",
       "4              4      Iskosia90   23    Male      131   \n",
       "..           ...            ...  ...     ...      ...   \n",
       "775          775     Aethedru70   21  Female       60   \n",
       "776          776         Iral74   21    Male      164   \n",
       "777          777     Yathecal72   20    Male       67   \n",
       "778          778        Sisur91    7    Male       92   \n",
       "779          779      Ennrian78   24    Male       50   \n",
       "\n",
       "                                     Item Name  Price  \n",
       "0    Extraction, Quickblade Of Trembling Hands   3.53  \n",
       "1                            Frenzied Scimitar   1.56  \n",
       "2                                 Final Critic   4.88  \n",
       "3                                  Blindscythe   3.27  \n",
       "4                                         Fury   1.44  \n",
       "..                                         ...    ...  \n",
       "775                                       Wolf   3.54  \n",
       "776                           Exiled Doomblade   1.63  \n",
       "777      Celeste, Incarnation of the Corrupted   3.46  \n",
       "778                               Final Critic   4.19  \n",
       "779                                       Dawn   4.60  \n",
       "\n",
       "[780 rows x 7 columns]"
      ],
      "text/html": "<div>\n<style scoped>\n    .dataframe tbody tr th:only-of-type {\n        vertical-align: middle;\n    }\n\n    .dataframe tbody tr th {\n        vertical-align: top;\n    }\n\n    .dataframe thead th {\n        text-align: right;\n    }\n</style>\n<table border=\"1\" class=\"dataframe\">\n  <thead>\n    <tr style=\"text-align: right;\">\n      <th></th>\n      <th>Purchase ID</th>\n      <th>SN</th>\n      <th>Age</th>\n      <th>Gender</th>\n      <th>Item ID</th>\n      <th>Item Name</th>\n      <th>Price</th>\n    </tr>\n  </thead>\n  <tbody>\n    <tr>\n      <th>0</th>\n      <td>0</td>\n      <td>Lisim78</td>\n      <td>20</td>\n      <td>Male</td>\n      <td>108</td>\n      <td>Extraction, Quickblade Of Trembling Hands</td>\n      <td>3.53</td>\n    </tr>\n    <tr>\n      <th>1</th>\n      <td>1</td>\n      <td>Lisovynya38</td>\n      <td>40</td>\n      <td>Male</td>\n      <td>143</td>\n      <td>Frenzied Scimitar</td>\n      <td>1.56</td>\n    </tr>\n    <tr>\n      <th>2</th>\n      <td>2</td>\n      <td>Ithergue48</td>\n      <td>24</td>\n      <td>Male</td>\n      <td>92</td>\n      <td>Final Critic</td>\n      <td>4.88</td>\n    </tr>\n    <tr>\n      <th>3</th>\n      <td>3</td>\n      <td>Chamassasya86</td>\n      <td>24</td>\n      <td>Male</td>\n      <td>100</td>\n      <td>Blindscythe</td>\n      <td>3.27</td>\n    </tr>\n    <tr>\n      <th>4</th>\n      <td>4</td>\n      <td>Iskosia90</td>\n      <td>23</td>\n      <td>Male</td>\n      <td>131</td>\n      <td>Fury</td>\n      <td>1.44</td>\n    </tr>\n    <tr>\n      <th>...</th>\n      <td>...</td>\n      <td>...</td>\n      <td>...</td>\n      <td>...</td>\n      <td>...</td>\n      <td>...</td>\n      <td>...</td>\n    </tr>\n    <tr>\n      <th>775</th>\n      <td>775</td>\n      <td>Aethedru70</td>\n      <td>21</td>\n      <td>Female</td>\n      <td>60</td>\n      <td>Wolf</td>\n      <td>3.54</td>\n    </tr>\n    <tr>\n      <th>776</th>\n      <td>776</td>\n      <td>Iral74</td>\n      <td>21</td>\n      <td>Male</td>\n      <td>164</td>\n      <td>Exiled Doomblade</td>\n      <td>1.63</td>\n    </tr>\n    <tr>\n      <th>777</th>\n      <td>777</td>\n      <td>Yathecal72</td>\n      <td>20</td>\n      <td>Male</td>\n      <td>67</td>\n      <td>Celeste, Incarnation of the Corrupted</td>\n      <td>3.46</td>\n    </tr>\n    <tr>\n      <th>778</th>\n      <td>778</td>\n      <td>Sisur91</td>\n      <td>7</td>\n      <td>Male</td>\n      <td>92</td>\n      <td>Final Critic</td>\n      <td>4.19</td>\n    </tr>\n    <tr>\n      <th>779</th>\n      <td>779</td>\n      <td>Ennrian78</td>\n      <td>24</td>\n      <td>Male</td>\n      <td>50</td>\n      <td>Dawn</td>\n      <td>4.60</td>\n    </tr>\n  </tbody>\n</table>\n<p>780 rows × 7 columns</p>\n</div>"
     },
     "metadata": {},
     "execution_count": 604
    }
   ],
   "source": [
    "# Dependencies and Setup\n",
    "import pandas as pd\n",
    "\n",
    "# File to Load (Remember to Change These)\n",
    "file_to_load = \"Resources/HeroesOfPymoli_Resources_purchase_data.csv\"\n",
    "\n",
    "# Read Purchasing File and store into Pandas data frame\n",
    "purchase_data = pd.read_csv(file_to_load)\n",
    "purchase_data"
   ]
  },
  {
   "cell_type": "markdown",
   "metadata": {},
   "source": [
    "# Player Count\n"
   ]
  },
  {
   "cell_type": "markdown",
   "metadata": {},
   "source": [
    "* Display the total number of players\n"
   ]
  },
  {
   "cell_type": "code",
   "execution_count": 605,
   "metadata": {},
   "outputs": [
    {
     "output_type": "execute_result",
     "data": {
      "text/plain": [
       "576"
      ]
     },
     "metadata": {},
     "execution_count": 605
    }
   ],
   "source": [
    "# Find the Total Number of Players\n",
    "player_count = purchase_data[\"SN\"].unique()\n",
    "total_players = len(player_count)\n",
    "total_players"
   ]
  },
  {
   "cell_type": "markdown",
   "metadata": {},
   "source": [
    "## Purchasing Analysis (Total)"
   ]
  },
  {
   "cell_type": "markdown",
   "metadata": {},
   "source": [
    "* Run basic calculations to obtain number of unique items, average price, etc.\n",
    "\n",
    "\n",
    "* Create a summary data frame to hold the results\n",
    "\n",
    "\n",
    "* Optional: give the displayed data cleaner formatting\n",
    "\n",
    "\n",
    "* Display the summary data frame\n"
   ]
  },
  {
   "cell_type": "code",
   "execution_count": 606,
   "metadata": {
    "scrolled": true
   },
   "outputs": [
    {
     "output_type": "execute_result",
     "data": {
      "text/plain": [
       "179"
      ]
     },
     "metadata": {},
     "execution_count": 606
    }
   ],
   "source": [
    "# Find the number of Unique Items\n",
    "unique_items = purchase_data[\"Item Name\"].unique()\n",
    "number_of_unique_items = len(unique_items)\n",
    "number_of_unique_items"
   ]
  },
  {
   "cell_type": "code",
   "execution_count": 607,
   "metadata": {},
   "outputs": [
    {
     "output_type": "execute_result",
     "data": {
      "text/plain": [
       "3.050987179487176"
      ]
     },
     "metadata": {},
     "execution_count": 607
    }
   ],
   "source": [
    "# Find the Average Purchase Price\n",
    "ave_purchase_price = purchase_data[\"Price\"].mean()\n",
    "ave_purchase_price"
   ]
  },
  {
   "cell_type": "code",
   "execution_count": 608,
   "metadata": {},
   "outputs": [
    {
     "output_type": "execute_result",
     "data": {
      "text/plain": [
       "780"
      ]
     },
     "metadata": {},
     "execution_count": 608
    }
   ],
   "source": [
    "# Find the Total Number of Purchases\n",
    "total_purchases = len(purchase_data[\"Price\"])\n",
    "total_purchases"
   ]
  },
  {
   "cell_type": "code",
   "execution_count": 609,
   "metadata": {},
   "outputs": [
    {
     "output_type": "execute_result",
     "data": {
      "text/plain": [
       "2379.7699999999973"
      ]
     },
     "metadata": {},
     "execution_count": 609
    }
   ],
   "source": [
    "# Find the Total Revenue\n",
    "total_revenue = sum(purchase_data[\"Price\"])\n",
    "total_revenue"
   ]
  },
  {
   "cell_type": "code",
   "execution_count": 610,
   "metadata": {},
   "outputs": [],
   "source": [
    "# Create a summary data frame to hold the results\n",
    "summary_df = pd.DataFrame([\n",
    "    {\"Number of Unique Items\": number_of_unique_items, \"Average Price\":ave_purchase_price, \"Number of Purchases\": total_purchases, \"Total Revenue\": total_revenue}\n",
    "])"
   ]
  },
  {
   "cell_type": "code",
   "execution_count": 611,
   "metadata": {},
   "outputs": [
    {
     "output_type": "execute_result",
     "data": {
      "text/plain": [
       "   Number of Unique Items  Average Price  Number of Purchases  Total Revenue\n",
       "0                     179       3.050987                  780        2379.77"
      ],
      "text/html": "<div>\n<style scoped>\n    .dataframe tbody tr th:only-of-type {\n        vertical-align: middle;\n    }\n\n    .dataframe tbody tr th {\n        vertical-align: top;\n    }\n\n    .dataframe thead th {\n        text-align: right;\n    }\n</style>\n<table border=\"1\" class=\"dataframe\">\n  <thead>\n    <tr style=\"text-align: right;\">\n      <th></th>\n      <th>Number of Unique Items</th>\n      <th>Average Price</th>\n      <th>Number of Purchases</th>\n      <th>Total Revenue</th>\n    </tr>\n  </thead>\n  <tbody>\n    <tr>\n      <th>0</th>\n      <td>179</td>\n      <td>3.050987</td>\n      <td>780</td>\n      <td>2379.77</td>\n    </tr>\n  </tbody>\n</table>\n</div>"
     },
     "metadata": {},
     "execution_count": 611
    }
   ],
   "source": [
    "# Display the summary data frame\n",
    "summary_df\n"
   ]
  },
  {
   "cell_type": "code",
   "execution_count": 612,
   "metadata": {},
   "outputs": [
    {
     "output_type": "execute_result",
     "data": {
      "text/plain": [
       "   Number of Unique Items Average Price  Number of Purchases Total Revenue\n",
       "0                     179         $3.05                  780     $2,379.77"
      ],
      "text/html": "<div>\n<style scoped>\n    .dataframe tbody tr th:only-of-type {\n        vertical-align: middle;\n    }\n\n    .dataframe tbody tr th {\n        vertical-align: top;\n    }\n\n    .dataframe thead th {\n        text-align: right;\n    }\n</style>\n<table border=\"1\" class=\"dataframe\">\n  <thead>\n    <tr style=\"text-align: right;\">\n      <th></th>\n      <th>Number of Unique Items</th>\n      <th>Average Price</th>\n      <th>Number of Purchases</th>\n      <th>Total Revenue</th>\n    </tr>\n  </thead>\n  <tbody>\n    <tr>\n      <th>0</th>\n      <td>179</td>\n      <td>$3.05</td>\n      <td>780</td>\n      <td>$2,379.77</td>\n    </tr>\n  </tbody>\n</table>\n</div>"
     },
     "metadata": {},
     "execution_count": 612
    }
   ],
   "source": [
    "# Give the displayed data cleaner formatting\n",
    "summary_df[\"Average Price\"] = summary_df[\"Average Price\"].map(\"${:.2F}\".format)\n",
    "summary_df[\"Total Revenue\"] = summary_df[\"Total Revenue\"].map(\"${:,.2F}\".format)\n",
    "summary_df\n"
   ]
  },
  {
   "cell_type": "markdown",
   "metadata": {},
   "source": [
    "## Gender Demographics"
   ]
  },
  {
   "cell_type": "markdown",
   "metadata": {},
   "source": [
    "* Percentage and Count of Male Players\n",
    "\n",
    "\n",
    "* Percentage and Count of Female Players\n",
    "\n",
    "\n",
    "* Percentage and Count of Other / Non-Disclosed\n",
    "\n",
    "\n"
   ]
  },
  {
   "cell_type": "code",
   "execution_count": 613,
   "metadata": {},
   "outputs": [
    {
     "output_type": "execute_result",
     "data": {
      "text/plain": [
       "     Purchase ID             SN  Age  Gender  Item ID  \\\n",
       "0              0        Lisim78   20    Male      108   \n",
       "1              1    Lisovynya38   40    Male      143   \n",
       "2              2     Ithergue48   24    Male       92   \n",
       "3              3  Chamassasya86   24    Male      100   \n",
       "4              4      Iskosia90   23    Male      131   \n",
       "..           ...            ...  ...     ...      ...   \n",
       "773          773         Hala31   21    Male       19   \n",
       "774          774     Jiskjask80   11    Male       92   \n",
       "775          775     Aethedru70   21  Female       60   \n",
       "777          777     Yathecal72   20    Male       67   \n",
       "778          778        Sisur91    7    Male       92   \n",
       "\n",
       "                                     Item Name  Price  \n",
       "0    Extraction, Quickblade Of Trembling Hands   3.53  \n",
       "1                            Frenzied Scimitar   1.56  \n",
       "2                                 Final Critic   4.88  \n",
       "3                                  Blindscythe   3.27  \n",
       "4                                         Fury   1.44  \n",
       "..                                         ...    ...  \n",
       "773              Pursuit, Cudgel of Necromancy   1.02  \n",
       "774                               Final Critic   4.19  \n",
       "775                                       Wolf   3.54  \n",
       "777      Celeste, Incarnation of the Corrupted   3.46  \n",
       "778                               Final Critic   4.19  \n",
       "\n",
       "[576 rows x 7 columns]"
      ],
      "text/html": "<div>\n<style scoped>\n    .dataframe tbody tr th:only-of-type {\n        vertical-align: middle;\n    }\n\n    .dataframe tbody tr th {\n        vertical-align: top;\n    }\n\n    .dataframe thead th {\n        text-align: right;\n    }\n</style>\n<table border=\"1\" class=\"dataframe\">\n  <thead>\n    <tr style=\"text-align: right;\">\n      <th></th>\n      <th>Purchase ID</th>\n      <th>SN</th>\n      <th>Age</th>\n      <th>Gender</th>\n      <th>Item ID</th>\n      <th>Item Name</th>\n      <th>Price</th>\n    </tr>\n  </thead>\n  <tbody>\n    <tr>\n      <th>0</th>\n      <td>0</td>\n      <td>Lisim78</td>\n      <td>20</td>\n      <td>Male</td>\n      <td>108</td>\n      <td>Extraction, Quickblade Of Trembling Hands</td>\n      <td>3.53</td>\n    </tr>\n    <tr>\n      <th>1</th>\n      <td>1</td>\n      <td>Lisovynya38</td>\n      <td>40</td>\n      <td>Male</td>\n      <td>143</td>\n      <td>Frenzied Scimitar</td>\n      <td>1.56</td>\n    </tr>\n    <tr>\n      <th>2</th>\n      <td>2</td>\n      <td>Ithergue48</td>\n      <td>24</td>\n      <td>Male</td>\n      <td>92</td>\n      <td>Final Critic</td>\n      <td>4.88</td>\n    </tr>\n    <tr>\n      <th>3</th>\n      <td>3</td>\n      <td>Chamassasya86</td>\n      <td>24</td>\n      <td>Male</td>\n      <td>100</td>\n      <td>Blindscythe</td>\n      <td>3.27</td>\n    </tr>\n    <tr>\n      <th>4</th>\n      <td>4</td>\n      <td>Iskosia90</td>\n      <td>23</td>\n      <td>Male</td>\n      <td>131</td>\n      <td>Fury</td>\n      <td>1.44</td>\n    </tr>\n    <tr>\n      <th>...</th>\n      <td>...</td>\n      <td>...</td>\n      <td>...</td>\n      <td>...</td>\n      <td>...</td>\n      <td>...</td>\n      <td>...</td>\n    </tr>\n    <tr>\n      <th>773</th>\n      <td>773</td>\n      <td>Hala31</td>\n      <td>21</td>\n      <td>Male</td>\n      <td>19</td>\n      <td>Pursuit, Cudgel of Necromancy</td>\n      <td>1.02</td>\n    </tr>\n    <tr>\n      <th>774</th>\n      <td>774</td>\n      <td>Jiskjask80</td>\n      <td>11</td>\n      <td>Male</td>\n      <td>92</td>\n      <td>Final Critic</td>\n      <td>4.19</td>\n    </tr>\n    <tr>\n      <th>775</th>\n      <td>775</td>\n      <td>Aethedru70</td>\n      <td>21</td>\n      <td>Female</td>\n      <td>60</td>\n      <td>Wolf</td>\n      <td>3.54</td>\n    </tr>\n    <tr>\n      <th>777</th>\n      <td>777</td>\n      <td>Yathecal72</td>\n      <td>20</td>\n      <td>Male</td>\n      <td>67</td>\n      <td>Celeste, Incarnation of the Corrupted</td>\n      <td>3.46</td>\n    </tr>\n    <tr>\n      <th>778</th>\n      <td>778</td>\n      <td>Sisur91</td>\n      <td>7</td>\n      <td>Male</td>\n      <td>92</td>\n      <td>Final Critic</td>\n      <td>4.19</td>\n    </tr>\n  </tbody>\n</table>\n<p>576 rows × 7 columns</p>\n</div>"
     },
     "metadata": {},
     "execution_count": 613
    }
   ],
   "source": [
    "# Sort by SN and drop duplicates to find unique total number of genders\n",
    "unique_dem = purchase_data.drop_duplicates(\"SN\", keep='first')\n",
    "unique_dem"
   ]
  },
  {
   "cell_type": "code",
   "execution_count": 614,
   "metadata": {},
   "outputs": [
    {
     "output_type": "execute_result",
     "data": {
      "text/plain": [
       "                       Gender\n",
       "Male                      484\n",
       "Female                     81\n",
       "Other / Non-Disclosed      11"
      ],
      "text/html": "<div>\n<style scoped>\n    .dataframe tbody tr th:only-of-type {\n        vertical-align: middle;\n    }\n\n    .dataframe tbody tr th {\n        vertical-align: top;\n    }\n\n    .dataframe thead th {\n        text-align: right;\n    }\n</style>\n<table border=\"1\" class=\"dataframe\">\n  <thead>\n    <tr style=\"text-align: right;\">\n      <th></th>\n      <th>Gender</th>\n    </tr>\n  </thead>\n  <tbody>\n    <tr>\n      <th>Male</th>\n      <td>484</td>\n    </tr>\n    <tr>\n      <th>Female</th>\n      <td>81</td>\n    </tr>\n    <tr>\n      <th>Other / Non-Disclosed</th>\n      <td>11</td>\n    </tr>\n  </tbody>\n</table>\n</div>"
     },
     "metadata": {},
     "execution_count": 614
    }
   ],
   "source": [
    "# Find the Count of Male, Female, and other gender Players\n",
    "gender_count = pd.DataFrame(unique_dem[\"Gender\"].value_counts())\n",
    "gender_count"
   ]
  },
  {
   "cell_type": "code",
   "execution_count": 615,
   "metadata": {},
   "outputs": [
    {
     "output_type": "execute_result",
     "data": {
      "text/plain": [
       "                          Gender\n",
       "Male                   84.027778\n",
       "Female                 14.062500\n",
       "Other / Non-Disclosed   1.909722"
      ],
      "text/html": "<div>\n<style scoped>\n    .dataframe tbody tr th:only-of-type {\n        vertical-align: middle;\n    }\n\n    .dataframe tbody tr th {\n        vertical-align: top;\n    }\n\n    .dataframe thead th {\n        text-align: right;\n    }\n</style>\n<table border=\"1\" class=\"dataframe\">\n  <thead>\n    <tr style=\"text-align: right;\">\n      <th></th>\n      <th>Gender</th>\n    </tr>\n  </thead>\n  <tbody>\n    <tr>\n      <th>Male</th>\n      <td>84.027778</td>\n    </tr>\n    <tr>\n      <th>Female</th>\n      <td>14.062500</td>\n    </tr>\n    <tr>\n      <th>Other / Non-Disclosed</th>\n      <td>1.909722</td>\n    </tr>\n  </tbody>\n</table>\n</div>"
     },
     "metadata": {},
     "execution_count": 615
    }
   ],
   "source": [
    "# Find the Percentage of Male, Female, and other gender Players\n",
    "gender_percent = (gender_count / total_players) * 100\n",
    "gender_percent"
   ]
  },
  {
   "cell_type": "code",
   "execution_count": 616,
   "metadata": {},
   "outputs": [
    {
     "output_type": "execute_result",
     "data": {
      "text/plain": [
       "                       Gender_x   Gender_y\n",
       "Male                        484  84.027778\n",
       "Female                       81  14.062500\n",
       "Other / Non-Disclosed        11   1.909722"
      ],
      "text/html": "<div>\n<style scoped>\n    .dataframe tbody tr th:only-of-type {\n        vertical-align: middle;\n    }\n\n    .dataframe tbody tr th {\n        vertical-align: top;\n    }\n\n    .dataframe thead th {\n        text-align: right;\n    }\n</style>\n<table border=\"1\" class=\"dataframe\">\n  <thead>\n    <tr style=\"text-align: right;\">\n      <th></th>\n      <th>Gender_x</th>\n      <th>Gender_y</th>\n    </tr>\n  </thead>\n  <tbody>\n    <tr>\n      <th>Male</th>\n      <td>484</td>\n      <td>84.027778</td>\n    </tr>\n    <tr>\n      <th>Female</th>\n      <td>81</td>\n      <td>14.062500</td>\n    </tr>\n    <tr>\n      <th>Other / Non-Disclosed</th>\n      <td>11</td>\n      <td>1.909722</td>\n    </tr>\n  </tbody>\n</table>\n</div>"
     },
     "metadata": {},
     "execution_count": 616
    }
   ],
   "source": [
    "# Create a summary data frame to hold the results\n",
    "gender_summary = gender_count.merge(gender_percent, left_index=True, right_index=True)\n",
    "gender_summary"
   ]
  },
  {
   "cell_type": "code",
   "execution_count": 617,
   "metadata": {},
   "outputs": [
    {
     "output_type": "execute_result",
     "data": {
      "text/plain": [
       "                       Total Count Percentage\n",
       "Male                           484     84.03%\n",
       "Female                          81     14.06%\n",
       "Other / Non-Disclosed           11      1.91%"
      ],
      "text/html": "<div>\n<style scoped>\n    .dataframe tbody tr th:only-of-type {\n        vertical-align: middle;\n    }\n\n    .dataframe tbody tr th {\n        vertical-align: top;\n    }\n\n    .dataframe thead th {\n        text-align: right;\n    }\n</style>\n<table border=\"1\" class=\"dataframe\">\n  <thead>\n    <tr style=\"text-align: right;\">\n      <th></th>\n      <th>Total Count</th>\n      <th>Percentage</th>\n    </tr>\n  </thead>\n  <tbody>\n    <tr>\n      <th>Male</th>\n      <td>484</td>\n      <td>84.03%</td>\n    </tr>\n    <tr>\n      <th>Female</th>\n      <td>81</td>\n      <td>14.06%</td>\n    </tr>\n    <tr>\n      <th>Other / Non-Disclosed</th>\n      <td>11</td>\n      <td>1.91%</td>\n    </tr>\n  </tbody>\n</table>\n</div>"
     },
     "metadata": {},
     "execution_count": 617
    }
   ],
   "source": [
    "# Give the displayed data cleaner formatting\n",
    "gender_summary.columns = [\"Total Count\", \"Percentage\"]\n",
    "gender_summary[\"Percentage\"] = gender_summary[\"Percentage\"].map(\"{:.2F}%\".format)\n",
    "gender_summary"
   ]
  },
  {
   "cell_type": "markdown",
   "metadata": {},
   "source": [
    "* Run basic calculations to obtain purchase count, avg. purchase price, avg. purchase total per person etc. by gender\n",
    "\n",
    "\n",
    "\n",
    "\n",
    "* Create a summary data frame to hold the results\n",
    "\n",
    "\n",
    "* Optional: give the displayed data cleaner formatting\n",
    "\n",
    "\n",
    "* Display the summary data frame"
   ]
  },
  {
   "cell_type": "code",
   "execution_count": 618,
   "metadata": {},
   "outputs": [
    {
     "output_type": "execute_result",
     "data": {
      "text/plain": [
       "                       Purchase ID   SN  Age  Item ID  Item Name  Price\n",
       "Gender                                                                 \n",
       "Female                         113  113  113      113        113    113\n",
       "Male                           652  652  652      652        652    652\n",
       "Other / Non-Disclosed           15   15   15       15         15     15"
      ],
      "text/html": "<div>\n<style scoped>\n    .dataframe tbody tr th:only-of-type {\n        vertical-align: middle;\n    }\n\n    .dataframe tbody tr th {\n        vertical-align: top;\n    }\n\n    .dataframe thead th {\n        text-align: right;\n    }\n</style>\n<table border=\"1\" class=\"dataframe\">\n  <thead>\n    <tr style=\"text-align: right;\">\n      <th></th>\n      <th>Purchase ID</th>\n      <th>SN</th>\n      <th>Age</th>\n      <th>Item ID</th>\n      <th>Item Name</th>\n      <th>Price</th>\n    </tr>\n    <tr>\n      <th>Gender</th>\n      <th></th>\n      <th></th>\n      <th></th>\n      <th></th>\n      <th></th>\n      <th></th>\n    </tr>\n  </thead>\n  <tbody>\n    <tr>\n      <th>Female</th>\n      <td>113</td>\n      <td>113</td>\n      <td>113</td>\n      <td>113</td>\n      <td>113</td>\n      <td>113</td>\n    </tr>\n    <tr>\n      <th>Male</th>\n      <td>652</td>\n      <td>652</td>\n      <td>652</td>\n      <td>652</td>\n      <td>652</td>\n      <td>652</td>\n    </tr>\n    <tr>\n      <th>Other / Non-Disclosed</th>\n      <td>15</td>\n      <td>15</td>\n      <td>15</td>\n      <td>15</td>\n      <td>15</td>\n      <td>15</td>\n    </tr>\n  </tbody>\n</table>\n</div>"
     },
     "metadata": {},
     "execution_count": 618
    }
   ],
   "source": [
    "# Use initial dataframe to analyse total purchase data and group it by gender\n",
    "grouped_gender_purchase = purchase_data.groupby(\"Gender\")\n",
    "grouped_gender_purchase.count().head()"
   ]
  },
  {
   "cell_type": "code",
   "execution_count": 619,
   "metadata": {},
   "outputs": [
    {
     "output_type": "execute_result",
     "data": {
      "text/plain": [
       "                       Purchase ID\n",
       "Gender                            \n",
       "Female                         113\n",
       "Male                           652\n",
       "Other / Non-Disclosed           15"
      ],
      "text/html": "<div>\n<style scoped>\n    .dataframe tbody tr th:only-of-type {\n        vertical-align: middle;\n    }\n\n    .dataframe tbody tr th {\n        vertical-align: top;\n    }\n\n    .dataframe thead th {\n        text-align: right;\n    }\n</style>\n<table border=\"1\" class=\"dataframe\">\n  <thead>\n    <tr style=\"text-align: right;\">\n      <th></th>\n      <th>Purchase ID</th>\n    </tr>\n    <tr>\n      <th>Gender</th>\n      <th></th>\n    </tr>\n  </thead>\n  <tbody>\n    <tr>\n      <th>Female</th>\n      <td>113</td>\n    </tr>\n    <tr>\n      <th>Male</th>\n      <td>652</td>\n    </tr>\n    <tr>\n      <th>Other / Non-Disclosed</th>\n      <td>15</td>\n    </tr>\n  </tbody>\n</table>\n</div>"
     },
     "metadata": {},
     "execution_count": 619
    }
   ],
   "source": [
    "# Find the purchase count by gender\n",
    "pc_gender = pd.DataFrame(grouped_gender_purchase[\"Purchase ID\"].count())\n",
    "pc_gender"
   ]
  },
  {
   "cell_type": "code",
   "execution_count": 620,
   "metadata": {},
   "outputs": [
    {
     "output_type": "execute_result",
     "data": {
      "text/plain": [
       "Gender\n",
       "Female                   3.203009\n",
       "Male                     3.017853\n",
       "Other / Non-Disclosed    3.346000\n",
       "Name: Price, dtype: float64"
      ]
     },
     "metadata": {},
     "execution_count": 620
    }
   ],
   "source": [
    "# Find the average purchase price by gender\n",
    "app_gender = grouped_gender_purchase[\"Price\"].mean()\n",
    "app_gender"
   ]
  },
  {
   "cell_type": "code",
   "execution_count": 621,
   "metadata": {},
   "outputs": [
    {
     "output_type": "execute_result",
     "data": {
      "text/plain": [
       "Gender\n",
       "Female                    361.94\n",
       "Male                     1967.64\n",
       "Other / Non-Disclosed      50.19\n",
       "Name: Price, dtype: float64"
      ]
     },
     "metadata": {},
     "execution_count": 621
    }
   ],
   "source": [
    "# Find the total purchase value by gender\n",
    "tpv_gender = grouped_gender_purchase[\"Price\"].sum()\n",
    "tpv_gender"
   ]
  },
  {
   "cell_type": "code",
   "execution_count": 623,
   "metadata": {},
   "outputs": [
    {
     "output_type": "execute_result",
     "data": {
      "text/plain": [
       "                       Purchase ID   SN  Age  Item ID  Item Name  Price\n",
       "Gender                                                                 \n",
       "Female                          81   81   81       81         81     81\n",
       "Male                           484  484  484      484        484    484\n",
       "Other / Non-Disclosed           11   11   11       11         11     11"
      ],
      "text/html": "<div>\n<style scoped>\n    .dataframe tbody tr th:only-of-type {\n        vertical-align: middle;\n    }\n\n    .dataframe tbody tr th {\n        vertical-align: top;\n    }\n\n    .dataframe thead th {\n        text-align: right;\n    }\n</style>\n<table border=\"1\" class=\"dataframe\">\n  <thead>\n    <tr style=\"text-align: right;\">\n      <th></th>\n      <th>Purchase ID</th>\n      <th>SN</th>\n      <th>Age</th>\n      <th>Item ID</th>\n      <th>Item Name</th>\n      <th>Price</th>\n    </tr>\n    <tr>\n      <th>Gender</th>\n      <th></th>\n      <th></th>\n      <th></th>\n      <th></th>\n      <th></th>\n      <th></th>\n    </tr>\n  </thead>\n  <tbody>\n    <tr>\n      <th>Female</th>\n      <td>81</td>\n      <td>81</td>\n      <td>81</td>\n      <td>81</td>\n      <td>81</td>\n      <td>81</td>\n    </tr>\n    <tr>\n      <th>Male</th>\n      <td>484</td>\n      <td>484</td>\n      <td>484</td>\n      <td>484</td>\n      <td>484</td>\n      <td>484</td>\n    </tr>\n    <tr>\n      <th>Other / Non-Disclosed</th>\n      <td>11</td>\n      <td>11</td>\n      <td>11</td>\n      <td>11</td>\n      <td>11</td>\n      <td>11</td>\n    </tr>\n  </tbody>\n</table>\n</div>"
     },
     "metadata": {},
     "execution_count": 623
    }
   ],
   "source": [
    "# To find unique purchase data, group unique dataframe by gender \n",
    "grouped_unique_gender = unique_dem.groupby(\"Gender\")\n",
    "grouped_unique_gender.count()"
   ]
  },
  {
   "cell_type": "code",
   "execution_count": 624,
   "metadata": {},
   "outputs": [
    {
     "output_type": "execute_result",
     "data": {
      "text/plain": [
       "Gender\n",
       "Female                    81\n",
       "Male                     484\n",
       "Other / Non-Disclosed     11\n",
       "Name: SN, dtype: int64"
      ]
     },
     "metadata": {},
     "execution_count": 624
    }
   ],
   "source": [
    "# Find unique gender count from unique data grouped by gender\n",
    "unique_gender_count = grouped_unique_gender[\"SN\"].count()\n",
    "unique_gender_count"
   ]
  },
  {
   "cell_type": "code",
   "execution_count": 625,
   "metadata": {},
   "outputs": [
    {
     "output_type": "execute_result",
     "data": {
      "text/plain": [
       "                              0\n",
       "Gender                         \n",
       "Female                 4.468395\n",
       "Male                   4.065372\n",
       "Other / Non-Disclosed  4.562727"
      ],
      "text/html": "<div>\n<style scoped>\n    .dataframe tbody tr th:only-of-type {\n        vertical-align: middle;\n    }\n\n    .dataframe tbody tr th {\n        vertical-align: top;\n    }\n\n    .dataframe thead th {\n        text-align: right;\n    }\n</style>\n<table border=\"1\" class=\"dataframe\">\n  <thead>\n    <tr style=\"text-align: right;\">\n      <th></th>\n      <th>0</th>\n    </tr>\n    <tr>\n      <th>Gender</th>\n      <th></th>\n    </tr>\n  </thead>\n  <tbody>\n    <tr>\n      <th>Female</th>\n      <td>4.468395</td>\n    </tr>\n    <tr>\n      <th>Male</th>\n      <td>4.065372</td>\n    </tr>\n    <tr>\n      <th>Other / Non-Disclosed</th>\n      <td>4.562727</td>\n    </tr>\n  </tbody>\n</table>\n</div>"
     },
     "metadata": {},
     "execution_count": 625
    }
   ],
   "source": [
    "# Find the average total purchase per person by gender\n",
    "atpp_gender = pd.DataFrame(tpv_gender / unique_gender_count)\n",
    "atpp_gender"
   ]
  },
  {
   "cell_type": "code",
   "execution_count": 626,
   "metadata": {},
   "outputs": [
    {
     "output_type": "execute_result",
     "data": {
      "text/plain": [
       "                       Purchase ID   Price_x  Price_y         0\n",
       "Gender                                                         \n",
       "Female                         113  3.203009   361.94  4.468395\n",
       "Male                           652  3.017853  1967.64  4.065372\n",
       "Other / Non-Disclosed           15  3.346000    50.19  4.562727"
      ],
      "text/html": "<div>\n<style scoped>\n    .dataframe tbody tr th:only-of-type {\n        vertical-align: middle;\n    }\n\n    .dataframe tbody tr th {\n        vertical-align: top;\n    }\n\n    .dataframe thead th {\n        text-align: right;\n    }\n</style>\n<table border=\"1\" class=\"dataframe\">\n  <thead>\n    <tr style=\"text-align: right;\">\n      <th></th>\n      <th>Purchase ID</th>\n      <th>Price_x</th>\n      <th>Price_y</th>\n      <th>0</th>\n    </tr>\n    <tr>\n      <th>Gender</th>\n      <th></th>\n      <th></th>\n      <th></th>\n      <th></th>\n    </tr>\n  </thead>\n  <tbody>\n    <tr>\n      <th>Female</th>\n      <td>113</td>\n      <td>3.203009</td>\n      <td>361.94</td>\n      <td>4.468395</td>\n    </tr>\n    <tr>\n      <th>Male</th>\n      <td>652</td>\n      <td>3.017853</td>\n      <td>1967.64</td>\n      <td>4.065372</td>\n    </tr>\n    <tr>\n      <th>Other / Non-Disclosed</th>\n      <td>15</td>\n      <td>3.346000</td>\n      <td>50.19</td>\n      <td>4.562727</td>\n    </tr>\n  </tbody>\n</table>\n</div>"
     },
     "metadata": {},
     "execution_count": 626
    }
   ],
   "source": [
    "# Display the summary data frame\n",
    "gender_purchase_summary = pc_gender.merge(app_gender, left_index=True, right_index=True)\n",
    "gender_purchase_summary = gender_purchase_summary.merge(tpv_gender, left_index=True, right_index=True)\n",
    "summary_gender_purchase = gender_purchase_summary.merge(atpp_gender, left_index=True, right_index=True)\n",
    "summary_gender_purchase"
   ]
  },
  {
   "cell_type": "code",
   "execution_count": 627,
   "metadata": {},
   "outputs": [],
   "source": [
    "#  Give the displayed data cleaner formatting\n",
    "summary_gender_purchase.columns = [\"Purchase Count\", \"Average Purchase Price\", \"Total Purchase Value\", \"Ave Total Purchase per Person\"]\n",
    "summary_gender_purchase[\"Average Purchase Price\"] = summary_gender_purchase[\"Average Purchase Price\"].map(\"${:.2F}\".format)\n",
    "summary_gender_purchase[\"Total Purchase Value\"] = summary_gender_purchase[\"Total Purchase Value\"].map(\"${:.2F}\".format)\n",
    "summary_gender_purchase[\"Ave Total Purchase per Person\"] = summary_gender_purchase[\"Ave Total Purchase per Person\"].map(\"${:.2F}\".format)"
   ]
  },
  {
   "cell_type": "code",
   "execution_count": 628,
   "metadata": {},
   "outputs": [
    {
     "output_type": "execute_result",
     "data": {
      "text/plain": [
       "                       Purchase Count Average Purchase Price  \\\n",
       "Gender                                                         \n",
       "Female                            113                  $3.20   \n",
       "Male                              652                  $3.02   \n",
       "Other / Non-Disclosed              15                  $3.35   \n",
       "\n",
       "                      Total Purchase Value Ave Total Purchase per Person  \n",
       "Gender                                                                    \n",
       "Female                             $361.94                         $4.47  \n",
       "Male                              $1967.64                         $4.07  \n",
       "Other / Non-Disclosed               $50.19                         $4.56  "
      ],
      "text/html": "<div>\n<style scoped>\n    .dataframe tbody tr th:only-of-type {\n        vertical-align: middle;\n    }\n\n    .dataframe tbody tr th {\n        vertical-align: top;\n    }\n\n    .dataframe thead th {\n        text-align: right;\n    }\n</style>\n<table border=\"1\" class=\"dataframe\">\n  <thead>\n    <tr style=\"text-align: right;\">\n      <th></th>\n      <th>Purchase Count</th>\n      <th>Average Purchase Price</th>\n      <th>Total Purchase Value</th>\n      <th>Ave Total Purchase per Person</th>\n    </tr>\n    <tr>\n      <th>Gender</th>\n      <th></th>\n      <th></th>\n      <th></th>\n      <th></th>\n    </tr>\n  </thead>\n  <tbody>\n    <tr>\n      <th>Female</th>\n      <td>113</td>\n      <td>$3.20</td>\n      <td>$361.94</td>\n      <td>$4.47</td>\n    </tr>\n    <tr>\n      <th>Male</th>\n      <td>652</td>\n      <td>$3.02</td>\n      <td>$1967.64</td>\n      <td>$4.07</td>\n    </tr>\n    <tr>\n      <th>Other / Non-Disclosed</th>\n      <td>15</td>\n      <td>$3.35</td>\n      <td>$50.19</td>\n      <td>$4.56</td>\n    </tr>\n  </tbody>\n</table>\n</div>"
     },
     "metadata": {},
     "execution_count": 628
    }
   ],
   "source": [
    "# Display the summary data frame\n",
    "summary_gender_purchase"
   ]
  },
  {
   "cell_type": "markdown",
   "metadata": {},
   "source": [
    "## Age Demographics"
   ]
  },
  {
   "cell_type": "markdown",
   "metadata": {},
   "source": [
    "* Establish bins for ages\n",
    "\n",
    "\n",
    "* Categorize the existing players using the age bins. Hint: use pd.cut()\n",
    "\n",
    "\n",
    "* Calculate the numbers and percentages by age group\n",
    "\n",
    "\n",
    "* Create a summary data frame to hold the results\n",
    "\n",
    "\n",
    "* Optional: round the percentage column to two decimal points\n",
    "\n",
    "\n",
    "* Display Age Demographics Table\n"
   ]
  },
  {
   "cell_type": "code",
   "execution_count": 629,
   "metadata": {},
   "outputs": [
    {
     "output_type": "execute_result",
     "data": {
      "text/plain": [
       "                SN  Age  Price\n",
       "0          Lisim78   20   3.53\n",
       "1      Lisovynya38   40   1.56\n",
       "2       Ithergue48   24   4.88\n",
       "3    Chamassasya86   24   3.27\n",
       "4        Iskosia90   23   1.44\n",
       "..             ...  ...    ...\n",
       "773         Hala31   21   1.02\n",
       "774     Jiskjask80   11   4.19\n",
       "775     Aethedru70   21   3.54\n",
       "777     Yathecal72   20   3.46\n",
       "778        Sisur91    7   4.19\n",
       "\n",
       "[576 rows x 3 columns]"
      ],
      "text/html": "<div>\n<style scoped>\n    .dataframe tbody tr th:only-of-type {\n        vertical-align: middle;\n    }\n\n    .dataframe tbody tr th {\n        vertical-align: top;\n    }\n\n    .dataframe thead th {\n        text-align: right;\n    }\n</style>\n<table border=\"1\" class=\"dataframe\">\n  <thead>\n    <tr style=\"text-align: right;\">\n      <th></th>\n      <th>SN</th>\n      <th>Age</th>\n      <th>Price</th>\n    </tr>\n  </thead>\n  <tbody>\n    <tr>\n      <th>0</th>\n      <td>Lisim78</td>\n      <td>20</td>\n      <td>3.53</td>\n    </tr>\n    <tr>\n      <th>1</th>\n      <td>Lisovynya38</td>\n      <td>40</td>\n      <td>1.56</td>\n    </tr>\n    <tr>\n      <th>2</th>\n      <td>Ithergue48</td>\n      <td>24</td>\n      <td>4.88</td>\n    </tr>\n    <tr>\n      <th>3</th>\n      <td>Chamassasya86</td>\n      <td>24</td>\n      <td>3.27</td>\n    </tr>\n    <tr>\n      <th>4</th>\n      <td>Iskosia90</td>\n      <td>23</td>\n      <td>1.44</td>\n    </tr>\n    <tr>\n      <th>...</th>\n      <td>...</td>\n      <td>...</td>\n      <td>...</td>\n    </tr>\n    <tr>\n      <th>773</th>\n      <td>Hala31</td>\n      <td>21</td>\n      <td>1.02</td>\n    </tr>\n    <tr>\n      <th>774</th>\n      <td>Jiskjask80</td>\n      <td>11</td>\n      <td>4.19</td>\n    </tr>\n    <tr>\n      <th>775</th>\n      <td>Aethedru70</td>\n      <td>21</td>\n      <td>3.54</td>\n    </tr>\n    <tr>\n      <th>777</th>\n      <td>Yathecal72</td>\n      <td>20</td>\n      <td>3.46</td>\n    </tr>\n    <tr>\n      <th>778</th>\n      <td>Sisur91</td>\n      <td>7</td>\n      <td>4.19</td>\n    </tr>\n  </tbody>\n</table>\n<p>576 rows × 3 columns</p>\n</div>"
     },
     "metadata": {},
     "execution_count": 629
    }
   ],
   "source": [
    "unique_age_dem = pd.DataFrame(unique_dem[[\"SN\", \"Age\", \"Price\"]])\n",
    "unique_age_dem"
   ]
  },
  {
   "cell_type": "code",
   "execution_count": 631,
   "metadata": {},
   "outputs": [
    {
     "output_type": "execute_result",
     "data": {
      "text/plain": [
       "                SN  Age  Price Age Ranges\n",
       "0          Lisim78   20   3.53      20-24\n",
       "1      Lisovynya38   40   1.56        40+\n",
       "2       Ithergue48   24   4.88      20-24\n",
       "3    Chamassasya86   24   3.27      20-24\n",
       "4        Iskosia90   23   1.44      20-24\n",
       "..             ...  ...    ...        ...\n",
       "773         Hala31   21   1.02      20-24\n",
       "774     Jiskjask80   11   4.19      10-14\n",
       "775     Aethedru70   21   3.54      20-24\n",
       "777     Yathecal72   20   3.46      20-24\n",
       "778        Sisur91    7   4.19        <10\n",
       "\n",
       "[576 rows x 4 columns]"
      ],
      "text/html": "<div>\n<style scoped>\n    .dataframe tbody tr th:only-of-type {\n        vertical-align: middle;\n    }\n\n    .dataframe tbody tr th {\n        vertical-align: top;\n    }\n\n    .dataframe thead th {\n        text-align: right;\n    }\n</style>\n<table border=\"1\" class=\"dataframe\">\n  <thead>\n    <tr style=\"text-align: right;\">\n      <th></th>\n      <th>SN</th>\n      <th>Age</th>\n      <th>Price</th>\n      <th>Age Ranges</th>\n    </tr>\n  </thead>\n  <tbody>\n    <tr>\n      <th>0</th>\n      <td>Lisim78</td>\n      <td>20</td>\n      <td>3.53</td>\n      <td>20-24</td>\n    </tr>\n    <tr>\n      <th>1</th>\n      <td>Lisovynya38</td>\n      <td>40</td>\n      <td>1.56</td>\n      <td>40+</td>\n    </tr>\n    <tr>\n      <th>2</th>\n      <td>Ithergue48</td>\n      <td>24</td>\n      <td>4.88</td>\n      <td>20-24</td>\n    </tr>\n    <tr>\n      <th>3</th>\n      <td>Chamassasya86</td>\n      <td>24</td>\n      <td>3.27</td>\n      <td>20-24</td>\n    </tr>\n    <tr>\n      <th>4</th>\n      <td>Iskosia90</td>\n      <td>23</td>\n      <td>1.44</td>\n      <td>20-24</td>\n    </tr>\n    <tr>\n      <th>...</th>\n      <td>...</td>\n      <td>...</td>\n      <td>...</td>\n      <td>...</td>\n    </tr>\n    <tr>\n      <th>773</th>\n      <td>Hala31</td>\n      <td>21</td>\n      <td>1.02</td>\n      <td>20-24</td>\n    </tr>\n    <tr>\n      <th>774</th>\n      <td>Jiskjask80</td>\n      <td>11</td>\n      <td>4.19</td>\n      <td>10-14</td>\n    </tr>\n    <tr>\n      <th>775</th>\n      <td>Aethedru70</td>\n      <td>21</td>\n      <td>3.54</td>\n      <td>20-24</td>\n    </tr>\n    <tr>\n      <th>777</th>\n      <td>Yathecal72</td>\n      <td>20</td>\n      <td>3.46</td>\n      <td>20-24</td>\n    </tr>\n    <tr>\n      <th>778</th>\n      <td>Sisur91</td>\n      <td>7</td>\n      <td>4.19</td>\n      <td>&lt;10</td>\n    </tr>\n  </tbody>\n</table>\n<p>576 rows × 4 columns</p>\n</div>"
     },
     "metadata": {},
     "execution_count": 631
    }
   ],
   "source": [
    "# Establish bins for ages\n",
    "bins = [0, 9, 14, 19, 24, 29, 34, 39, 100]\n",
    "group_names = [\"<10\", \"10-14\", \"15-19\", \"20-24\", \"25-29\", \"30-34\", \"35-39\", \"40+\"]\n",
    "\n",
    "# Categorize the existing players using the age bins\n",
    "unique_age_dem[\"Age Ranges\"] = pd.cut(unique_age_dem[\"Age\"], bins, labels=group_names, include_lowest=True)\n",
    "unique_age_dem"
   ]
  },
  {
   "cell_type": "code",
   "execution_count": 632,
   "metadata": {},
   "outputs": [
    {
     "output_type": "execute_result",
     "data": {
      "text/plain": [
       "             SN  Age  Price\n",
       "Age Ranges                 \n",
       "<10          17   17     17\n",
       "10-14        22   22     22\n",
       "15-19       107  107    107\n",
       "20-24       258  258    258\n",
       "25-29        77   77     77\n",
       "30-34        52   52     52\n",
       "35-39        31   31     31\n",
       "40+          12   12     12"
      ],
      "text/html": "<div>\n<style scoped>\n    .dataframe tbody tr th:only-of-type {\n        vertical-align: middle;\n    }\n\n    .dataframe tbody tr th {\n        vertical-align: top;\n    }\n\n    .dataframe thead th {\n        text-align: right;\n    }\n</style>\n<table border=\"1\" class=\"dataframe\">\n  <thead>\n    <tr style=\"text-align: right;\">\n      <th></th>\n      <th>SN</th>\n      <th>Age</th>\n      <th>Price</th>\n    </tr>\n    <tr>\n      <th>Age Ranges</th>\n      <th></th>\n      <th></th>\n      <th></th>\n    </tr>\n  </thead>\n  <tbody>\n    <tr>\n      <th>&lt;10</th>\n      <td>17</td>\n      <td>17</td>\n      <td>17</td>\n    </tr>\n    <tr>\n      <th>10-14</th>\n      <td>22</td>\n      <td>22</td>\n      <td>22</td>\n    </tr>\n    <tr>\n      <th>15-19</th>\n      <td>107</td>\n      <td>107</td>\n      <td>107</td>\n    </tr>\n    <tr>\n      <th>20-24</th>\n      <td>258</td>\n      <td>258</td>\n      <td>258</td>\n    </tr>\n    <tr>\n      <th>25-29</th>\n      <td>77</td>\n      <td>77</td>\n      <td>77</td>\n    </tr>\n    <tr>\n      <th>30-34</th>\n      <td>52</td>\n      <td>52</td>\n      <td>52</td>\n    </tr>\n    <tr>\n      <th>35-39</th>\n      <td>31</td>\n      <td>31</td>\n      <td>31</td>\n    </tr>\n    <tr>\n      <th>40+</th>\n      <td>12</td>\n      <td>12</td>\n      <td>12</td>\n    </tr>\n  </tbody>\n</table>\n</div>"
     },
     "metadata": {},
     "execution_count": 632
    }
   ],
   "source": [
    "# Group by Age group\n",
    "grouped_unique_agerange = unique_age_dem.groupby(\"Age Ranges\")\n",
    "grouped_unique_agerange.count()"
   ]
  },
  {
   "cell_type": "code",
   "execution_count": 633,
   "metadata": {},
   "outputs": [
    {
     "output_type": "execute_result",
     "data": {
      "text/plain": [
       "             SN\n",
       "Age Ranges     \n",
       "<10          17\n",
       "10-14        22\n",
       "15-19       107\n",
       "20-24       258\n",
       "25-29        77\n",
       "30-34        52\n",
       "35-39        31\n",
       "40+          12"
      ],
      "text/html": "<div>\n<style scoped>\n    .dataframe tbody tr th:only-of-type {\n        vertical-align: middle;\n    }\n\n    .dataframe tbody tr th {\n        vertical-align: top;\n    }\n\n    .dataframe thead th {\n        text-align: right;\n    }\n</style>\n<table border=\"1\" class=\"dataframe\">\n  <thead>\n    <tr style=\"text-align: right;\">\n      <th></th>\n      <th>SN</th>\n    </tr>\n    <tr>\n      <th>Age Ranges</th>\n      <th></th>\n    </tr>\n  </thead>\n  <tbody>\n    <tr>\n      <th>&lt;10</th>\n      <td>17</td>\n    </tr>\n    <tr>\n      <th>10-14</th>\n      <td>22</td>\n    </tr>\n    <tr>\n      <th>15-19</th>\n      <td>107</td>\n    </tr>\n    <tr>\n      <th>20-24</th>\n      <td>258</td>\n    </tr>\n    <tr>\n      <th>25-29</th>\n      <td>77</td>\n    </tr>\n    <tr>\n      <th>30-34</th>\n      <td>52</td>\n    </tr>\n    <tr>\n      <th>35-39</th>\n      <td>31</td>\n    </tr>\n    <tr>\n      <th>40+</th>\n      <td>12</td>\n    </tr>\n  </tbody>\n</table>\n</div>"
     },
     "metadata": {},
     "execution_count": 633
    }
   ],
   "source": [
    "# Calculate the numbers by age group\n",
    "unique_agerange_count = pd.DataFrame(grouped_agerange[\"SN\"].count())\n",
    "unique_agerange_count"
   ]
  },
  {
   "cell_type": "code",
   "execution_count": 634,
   "metadata": {},
   "outputs": [
    {
     "output_type": "execute_result",
     "data": {
      "text/plain": [
       "                   SN\n",
       "Age Ranges           \n",
       "<10          2.951389\n",
       "10-14        3.819444\n",
       "15-19       18.576389\n",
       "20-24       44.791667\n",
       "25-29       13.368056\n",
       "30-34        9.027778\n",
       "35-39        5.381944\n",
       "40+          2.083333"
      ],
      "text/html": "<div>\n<style scoped>\n    .dataframe tbody tr th:only-of-type {\n        vertical-align: middle;\n    }\n\n    .dataframe tbody tr th {\n        vertical-align: top;\n    }\n\n    .dataframe thead th {\n        text-align: right;\n    }\n</style>\n<table border=\"1\" class=\"dataframe\">\n  <thead>\n    <tr style=\"text-align: right;\">\n      <th></th>\n      <th>SN</th>\n    </tr>\n    <tr>\n      <th>Age Ranges</th>\n      <th></th>\n    </tr>\n  </thead>\n  <tbody>\n    <tr>\n      <th>&lt;10</th>\n      <td>2.951389</td>\n    </tr>\n    <tr>\n      <th>10-14</th>\n      <td>3.819444</td>\n    </tr>\n    <tr>\n      <th>15-19</th>\n      <td>18.576389</td>\n    </tr>\n    <tr>\n      <th>20-24</th>\n      <td>44.791667</td>\n    </tr>\n    <tr>\n      <th>25-29</th>\n      <td>13.368056</td>\n    </tr>\n    <tr>\n      <th>30-34</th>\n      <td>9.027778</td>\n    </tr>\n    <tr>\n      <th>35-39</th>\n      <td>5.381944</td>\n    </tr>\n    <tr>\n      <th>40+</th>\n      <td>2.083333</td>\n    </tr>\n  </tbody>\n</table>\n</div>"
     },
     "metadata": {},
     "execution_count": 634
    }
   ],
   "source": [
    "# Calculate the percentages by age group\n",
    "unique_agerange_percent = (agerange_count / total_players) * 100\n",
    "unique_agerange_percent"
   ]
  },
  {
   "cell_type": "code",
   "execution_count": 635,
   "metadata": {},
   "outputs": [
    {
     "output_type": "execute_result",
     "data": {
      "text/plain": [
       "            Total Count  Percentage\n",
       "Age Ranges                         \n",
       "<10                  17    2.951389\n",
       "10-14                22    3.819444\n",
       "15-19               107   18.576389\n",
       "20-24               258   44.791667\n",
       "25-29                77   13.368056\n",
       "30-34                52    9.027778\n",
       "35-39                31    5.381944\n",
       "40+                  12    2.083333"
      ],
      "text/html": "<div>\n<style scoped>\n    .dataframe tbody tr th:only-of-type {\n        vertical-align: middle;\n    }\n\n    .dataframe tbody tr th {\n        vertical-align: top;\n    }\n\n    .dataframe thead th {\n        text-align: right;\n    }\n</style>\n<table border=\"1\" class=\"dataframe\">\n  <thead>\n    <tr style=\"text-align: right;\">\n      <th></th>\n      <th>Total Count</th>\n      <th>Percentage</th>\n    </tr>\n    <tr>\n      <th>Age Ranges</th>\n      <th></th>\n      <th></th>\n    </tr>\n  </thead>\n  <tbody>\n    <tr>\n      <th>&lt;10</th>\n      <td>17</td>\n      <td>2.951389</td>\n    </tr>\n    <tr>\n      <th>10-14</th>\n      <td>22</td>\n      <td>3.819444</td>\n    </tr>\n    <tr>\n      <th>15-19</th>\n      <td>107</td>\n      <td>18.576389</td>\n    </tr>\n    <tr>\n      <th>20-24</th>\n      <td>258</td>\n      <td>44.791667</td>\n    </tr>\n    <tr>\n      <th>25-29</th>\n      <td>77</td>\n      <td>13.368056</td>\n    </tr>\n    <tr>\n      <th>30-34</th>\n      <td>52</td>\n      <td>9.027778</td>\n    </tr>\n    <tr>\n      <th>35-39</th>\n      <td>31</td>\n      <td>5.381944</td>\n    </tr>\n    <tr>\n      <th>40+</th>\n      <td>12</td>\n      <td>2.083333</td>\n    </tr>\n  </tbody>\n</table>\n</div>"
     },
     "metadata": {},
     "execution_count": 635
    }
   ],
   "source": [
    "# Create a summary data frame to hold the results\n",
    "unique_age_summary = unique_agerange_count.merge(unique_agerange_percent, left_index=True, right_index=True)\n",
    "unique_age_summary.columns = [\"Total Count\", \"Percentage\"]\n",
    "unique_age_summary"
   ]
  },
  {
   "cell_type": "code",
   "execution_count": 637,
   "metadata": {},
   "outputs": [
    {
     "output_type": "execute_result",
     "data": {
      "text/plain": [
       "            Total Count Percentage\n",
       "Age Ranges                        \n",
       "<10                  17      2.95%\n",
       "10-14                22      3.82%\n",
       "15-19               107     18.58%\n",
       "20-24               258     44.79%\n",
       "25-29                77     13.37%\n",
       "30-34                52      9.03%\n",
       "35-39                31      5.38%\n",
       "40+                  12      2.08%"
      ],
      "text/html": "<div>\n<style scoped>\n    .dataframe tbody tr th:only-of-type {\n        vertical-align: middle;\n    }\n\n    .dataframe tbody tr th {\n        vertical-align: top;\n    }\n\n    .dataframe thead th {\n        text-align: right;\n    }\n</style>\n<table border=\"1\" class=\"dataframe\">\n  <thead>\n    <tr style=\"text-align: right;\">\n      <th></th>\n      <th>Total Count</th>\n      <th>Percentage</th>\n    </tr>\n    <tr>\n      <th>Age Ranges</th>\n      <th></th>\n      <th></th>\n    </tr>\n  </thead>\n  <tbody>\n    <tr>\n      <th>&lt;10</th>\n      <td>17</td>\n      <td>2.95%</td>\n    </tr>\n    <tr>\n      <th>10-14</th>\n      <td>22</td>\n      <td>3.82%</td>\n    </tr>\n    <tr>\n      <th>15-19</th>\n      <td>107</td>\n      <td>18.58%</td>\n    </tr>\n    <tr>\n      <th>20-24</th>\n      <td>258</td>\n      <td>44.79%</td>\n    </tr>\n    <tr>\n      <th>25-29</th>\n      <td>77</td>\n      <td>13.37%</td>\n    </tr>\n    <tr>\n      <th>30-34</th>\n      <td>52</td>\n      <td>9.03%</td>\n    </tr>\n    <tr>\n      <th>35-39</th>\n      <td>31</td>\n      <td>5.38%</td>\n    </tr>\n    <tr>\n      <th>40+</th>\n      <td>12</td>\n      <td>2.08%</td>\n    </tr>\n  </tbody>\n</table>\n</div>"
     },
     "metadata": {},
     "execution_count": 637
    }
   ],
   "source": [
    "# Round the percentage column to two decimal points\n",
    "unique_age_summary[\"Percentage\"] = unique_age_summary[\"Percentage\"].map(\"{:.2F}%\".format)\n",
    "# Display Age Demographics Table\n",
    "unique_age_summary"
   ]
  },
  {
   "cell_type": "markdown",
   "metadata": {},
   "source": [
    "## Purchasing Analysis (Age)"
   ]
  },
  {
   "cell_type": "markdown",
   "metadata": {},
   "source": [
    "* Bin the purchase_data data frame by age\n",
    "\n",
    "\n",
    "* Run basic calculations to obtain purchase count, avg. purchase price, avg. purchase total per person etc. in the table below\n",
    "\n",
    "\n",
    "* Create a summary data frame to hold the results\n",
    "\n",
    "\n",
    "* Optional: give the displayed data cleaner formatting\n",
    "\n",
    "\n",
    "* Display the summary data frame"
   ]
  },
  {
   "cell_type": "code",
   "execution_count": 639,
   "metadata": {},
   "outputs": [
    {
     "output_type": "execute_result",
     "data": {
      "text/plain": [
       "                SN  Age  Price\n",
       "0          Lisim78   20   3.53\n",
       "1      Lisovynya38   40   1.56\n",
       "2       Ithergue48   24   4.88\n",
       "3    Chamassasya86   24   3.27\n",
       "4        Iskosia90   23   1.44\n",
       "..             ...  ...    ...\n",
       "775     Aethedru70   21   3.54\n",
       "776         Iral74   21   1.63\n",
       "777     Yathecal72   20   3.46\n",
       "778        Sisur91    7   4.19\n",
       "779      Ennrian78   24   4.60\n",
       "\n",
       "[780 rows x 3 columns]"
      ],
      "text/html": "<div>\n<style scoped>\n    .dataframe tbody tr th:only-of-type {\n        vertical-align: middle;\n    }\n\n    .dataframe tbody tr th {\n        vertical-align: top;\n    }\n\n    .dataframe thead th {\n        text-align: right;\n    }\n</style>\n<table border=\"1\" class=\"dataframe\">\n  <thead>\n    <tr style=\"text-align: right;\">\n      <th></th>\n      <th>SN</th>\n      <th>Age</th>\n      <th>Price</th>\n    </tr>\n  </thead>\n  <tbody>\n    <tr>\n      <th>0</th>\n      <td>Lisim78</td>\n      <td>20</td>\n      <td>3.53</td>\n    </tr>\n    <tr>\n      <th>1</th>\n      <td>Lisovynya38</td>\n      <td>40</td>\n      <td>1.56</td>\n    </tr>\n    <tr>\n      <th>2</th>\n      <td>Ithergue48</td>\n      <td>24</td>\n      <td>4.88</td>\n    </tr>\n    <tr>\n      <th>3</th>\n      <td>Chamassasya86</td>\n      <td>24</td>\n      <td>3.27</td>\n    </tr>\n    <tr>\n      <th>4</th>\n      <td>Iskosia90</td>\n      <td>23</td>\n      <td>1.44</td>\n    </tr>\n    <tr>\n      <th>...</th>\n      <td>...</td>\n      <td>...</td>\n      <td>...</td>\n    </tr>\n    <tr>\n      <th>775</th>\n      <td>Aethedru70</td>\n      <td>21</td>\n      <td>3.54</td>\n    </tr>\n    <tr>\n      <th>776</th>\n      <td>Iral74</td>\n      <td>21</td>\n      <td>1.63</td>\n    </tr>\n    <tr>\n      <th>777</th>\n      <td>Yathecal72</td>\n      <td>20</td>\n      <td>3.46</td>\n    </tr>\n    <tr>\n      <th>778</th>\n      <td>Sisur91</td>\n      <td>7</td>\n      <td>4.19</td>\n    </tr>\n    <tr>\n      <th>779</th>\n      <td>Ennrian78</td>\n      <td>24</td>\n      <td>4.60</td>\n    </tr>\n  </tbody>\n</table>\n<p>780 rows × 3 columns</p>\n</div>"
     },
     "metadata": {},
     "execution_count": 639
    }
   ],
   "source": [
    "# Use initial dataframe to analyse data\n",
    "all_age_dem = pd.DataFrame(purchase_data[[\"SN\", \"Age\", \"Price\"]])\n",
    "all_age_dem"
   ]
  },
  {
   "cell_type": "code",
   "execution_count": 640,
   "metadata": {},
   "outputs": [
    {
     "output_type": "execute_result",
     "data": {
      "text/plain": [
       "                SN  Age  Price Age Ranges\n",
       "0          Lisim78   20   3.53      20-24\n",
       "1      Lisovynya38   40   1.56        40+\n",
       "2       Ithergue48   24   4.88      20-24\n",
       "3    Chamassasya86   24   3.27      20-24\n",
       "4        Iskosia90   23   1.44      20-24\n",
       "..             ...  ...    ...        ...\n",
       "775     Aethedru70   21   3.54      20-24\n",
       "776         Iral74   21   1.63      20-24\n",
       "777     Yathecal72   20   3.46      20-24\n",
       "778        Sisur91    7   4.19        <10\n",
       "779      Ennrian78   24   4.60      20-24\n",
       "\n",
       "[780 rows x 4 columns]"
      ],
      "text/html": "<div>\n<style scoped>\n    .dataframe tbody tr th:only-of-type {\n        vertical-align: middle;\n    }\n\n    .dataframe tbody tr th {\n        vertical-align: top;\n    }\n\n    .dataframe thead th {\n        text-align: right;\n    }\n</style>\n<table border=\"1\" class=\"dataframe\">\n  <thead>\n    <tr style=\"text-align: right;\">\n      <th></th>\n      <th>SN</th>\n      <th>Age</th>\n      <th>Price</th>\n      <th>Age Ranges</th>\n    </tr>\n  </thead>\n  <tbody>\n    <tr>\n      <th>0</th>\n      <td>Lisim78</td>\n      <td>20</td>\n      <td>3.53</td>\n      <td>20-24</td>\n    </tr>\n    <tr>\n      <th>1</th>\n      <td>Lisovynya38</td>\n      <td>40</td>\n      <td>1.56</td>\n      <td>40+</td>\n    </tr>\n    <tr>\n      <th>2</th>\n      <td>Ithergue48</td>\n      <td>24</td>\n      <td>4.88</td>\n      <td>20-24</td>\n    </tr>\n    <tr>\n      <th>3</th>\n      <td>Chamassasya86</td>\n      <td>24</td>\n      <td>3.27</td>\n      <td>20-24</td>\n    </tr>\n    <tr>\n      <th>4</th>\n      <td>Iskosia90</td>\n      <td>23</td>\n      <td>1.44</td>\n      <td>20-24</td>\n    </tr>\n    <tr>\n      <th>...</th>\n      <td>...</td>\n      <td>...</td>\n      <td>...</td>\n      <td>...</td>\n    </tr>\n    <tr>\n      <th>775</th>\n      <td>Aethedru70</td>\n      <td>21</td>\n      <td>3.54</td>\n      <td>20-24</td>\n    </tr>\n    <tr>\n      <th>776</th>\n      <td>Iral74</td>\n      <td>21</td>\n      <td>1.63</td>\n      <td>20-24</td>\n    </tr>\n    <tr>\n      <th>777</th>\n      <td>Yathecal72</td>\n      <td>20</td>\n      <td>3.46</td>\n      <td>20-24</td>\n    </tr>\n    <tr>\n      <th>778</th>\n      <td>Sisur91</td>\n      <td>7</td>\n      <td>4.19</td>\n      <td>&lt;10</td>\n    </tr>\n    <tr>\n      <th>779</th>\n      <td>Ennrian78</td>\n      <td>24</td>\n      <td>4.60</td>\n      <td>20-24</td>\n    </tr>\n  </tbody>\n</table>\n<p>780 rows × 4 columns</p>\n</div>"
     },
     "metadata": {},
     "execution_count": 640
    }
   ],
   "source": [
    "# Bin the purchase_data data frame by age\n",
    "bins = [0, 9, 14, 19, 24, 29, 34, 39, 100]\n",
    "group_names = [\"<10\", \"10-14\", \"15-19\", \"20-24\", \"25-29\", \"30-34\", \"35-39\", \"40+\"]\n",
    "all_age_dem[\"Age Ranges\"] = pd.cut(purchase_data[\"Age\"], bins, labels=group_names, include_lowest=True)\n",
    "all_age_dem"
   ]
  },
  {
   "cell_type": "code",
   "execution_count": 641,
   "metadata": {},
   "outputs": [
    {
     "output_type": "execute_result",
     "data": {
      "text/plain": [
       "             SN  Age  Price\n",
       "Age Ranges                 \n",
       "<10          23   23     23\n",
       "10-14        28   28     28\n",
       "15-19       136  136    136\n",
       "20-24       365  365    365\n",
       "25-29       101  101    101\n",
       "30-34        73   73     73\n",
       "35-39        41   41     41\n",
       "40+          13   13     13"
      ],
      "text/html": "<div>\n<style scoped>\n    .dataframe tbody tr th:only-of-type {\n        vertical-align: middle;\n    }\n\n    .dataframe tbody tr th {\n        vertical-align: top;\n    }\n\n    .dataframe thead th {\n        text-align: right;\n    }\n</style>\n<table border=\"1\" class=\"dataframe\">\n  <thead>\n    <tr style=\"text-align: right;\">\n      <th></th>\n      <th>SN</th>\n      <th>Age</th>\n      <th>Price</th>\n    </tr>\n    <tr>\n      <th>Age Ranges</th>\n      <th></th>\n      <th></th>\n      <th></th>\n    </tr>\n  </thead>\n  <tbody>\n    <tr>\n      <th>&lt;10</th>\n      <td>23</td>\n      <td>23</td>\n      <td>23</td>\n    </tr>\n    <tr>\n      <th>10-14</th>\n      <td>28</td>\n      <td>28</td>\n      <td>28</td>\n    </tr>\n    <tr>\n      <th>15-19</th>\n      <td>136</td>\n      <td>136</td>\n      <td>136</td>\n    </tr>\n    <tr>\n      <th>20-24</th>\n      <td>365</td>\n      <td>365</td>\n      <td>365</td>\n    </tr>\n    <tr>\n      <th>25-29</th>\n      <td>101</td>\n      <td>101</td>\n      <td>101</td>\n    </tr>\n    <tr>\n      <th>30-34</th>\n      <td>73</td>\n      <td>73</td>\n      <td>73</td>\n    </tr>\n    <tr>\n      <th>35-39</th>\n      <td>41</td>\n      <td>41</td>\n      <td>41</td>\n    </tr>\n    <tr>\n      <th>40+</th>\n      <td>13</td>\n      <td>13</td>\n      <td>13</td>\n    </tr>\n  </tbody>\n</table>\n</div>"
     },
     "metadata": {},
     "execution_count": 641
    }
   ],
   "source": [
    "# Group data by age range\n",
    "grouped_all_agerange = all_age_dem.groupby(\"Age Ranges\")\n",
    "grouped_all_agerange.count()"
   ]
  },
  {
   "cell_type": "code",
   "execution_count": 642,
   "metadata": {},
   "outputs": [
    {
     "output_type": "execute_result",
     "data": {
      "text/plain": [
       "             SN\n",
       "Age Ranges     \n",
       "<10          23\n",
       "10-14        28\n",
       "15-19       136\n",
       "20-24       365\n",
       "25-29       101\n",
       "30-34        73\n",
       "35-39        41\n",
       "40+          13"
      ],
      "text/html": "<div>\n<style scoped>\n    .dataframe tbody tr th:only-of-type {\n        vertical-align: middle;\n    }\n\n    .dataframe tbody tr th {\n        vertical-align: top;\n    }\n\n    .dataframe thead th {\n        text-align: right;\n    }\n</style>\n<table border=\"1\" class=\"dataframe\">\n  <thead>\n    <tr style=\"text-align: right;\">\n      <th></th>\n      <th>SN</th>\n    </tr>\n    <tr>\n      <th>Age Ranges</th>\n      <th></th>\n    </tr>\n  </thead>\n  <tbody>\n    <tr>\n      <th>&lt;10</th>\n      <td>23</td>\n    </tr>\n    <tr>\n      <th>10-14</th>\n      <td>28</td>\n    </tr>\n    <tr>\n      <th>15-19</th>\n      <td>136</td>\n    </tr>\n    <tr>\n      <th>20-24</th>\n      <td>365</td>\n    </tr>\n    <tr>\n      <th>25-29</th>\n      <td>101</td>\n    </tr>\n    <tr>\n      <th>30-34</th>\n      <td>73</td>\n    </tr>\n    <tr>\n      <th>35-39</th>\n      <td>41</td>\n    </tr>\n    <tr>\n      <th>40+</th>\n      <td>13</td>\n    </tr>\n  </tbody>\n</table>\n</div>"
     },
     "metadata": {},
     "execution_count": 642
    }
   ],
   "source": [
    "# Find the purchase count by age range\n",
    "pc_age = pd.DataFrame(grouped_all_agerange[\"SN\"].count())\n",
    "pc_age"
   ]
  },
  {
   "cell_type": "code",
   "execution_count": 645,
   "metadata": {},
   "outputs": [
    {
     "output_type": "execute_result",
     "data": {
      "text/plain": [
       "Age Ranges\n",
       "<10      3.353478\n",
       "10-14    2.956429\n",
       "15-19    3.035956\n",
       "20-24    3.052219\n",
       "25-29    2.900990\n",
       "30-34    2.931507\n",
       "35-39    3.601707\n",
       "40+      2.941538\n",
       "Name: Price, dtype: float64"
      ]
     },
     "metadata": {},
     "execution_count": 645
    }
   ],
   "source": [
    "# Find the average purchase price by age range\n",
    "app_age = grouped_all_agerange[\"Price\"].mean()\n",
    "app_age"
   ]
  },
  {
   "cell_type": "code",
   "execution_count": 646,
   "metadata": {},
   "outputs": [
    {
     "output_type": "execute_result",
     "data": {
      "text/plain": [
       "Age Ranges\n",
       "<10        77.13\n",
       "10-14      82.78\n",
       "15-19     412.89\n",
       "20-24    1114.06\n",
       "25-29     293.00\n",
       "30-34     214.00\n",
       "35-39     147.67\n",
       "40+        38.24\n",
       "Name: Price, dtype: float64"
      ]
     },
     "metadata": {},
     "execution_count": 646
    }
   ],
   "source": [
    "# Find the total purchase value by age range\n",
    "tpv_age = grouped_all_agerange[\"Price\"].sum()\n",
    "tpv_age"
   ]
  },
  {
   "cell_type": "code",
   "execution_count": 647,
   "metadata": {},
   "outputs": [
    {
     "output_type": "execute_result",
     "data": {
      "text/plain": [
       "Age Ranges\n",
       "<10       17\n",
       "10-14     22\n",
       "15-19    107\n",
       "20-24    258\n",
       "25-29     77\n",
       "30-34     52\n",
       "35-39     31\n",
       "40+       12\n",
       "Name: SN, dtype: int64"
      ]
     },
     "metadata": {},
     "execution_count": 647
    }
   ],
   "source": [
    "# Use the unique dataframe to find the unique age count\n",
    "unique_age_count = grouped_agerange[\"SN\"].count()\n",
    "unique_age_count"
   ]
  },
  {
   "cell_type": "code",
   "execution_count": 648,
   "metadata": {},
   "outputs": [
    {
     "output_type": "execute_result",
     "data": {
      "text/plain": [
       "                   0\n",
       "Age Ranges          \n",
       "<10         4.537059\n",
       "10-14       3.762727\n",
       "15-19       3.858785\n",
       "20-24       4.318062\n",
       "25-29       3.805195\n",
       "30-34       4.115385\n",
       "35-39       4.763548\n",
       "40+         3.186667"
      ],
      "text/html": "<div>\n<style scoped>\n    .dataframe tbody tr th:only-of-type {\n        vertical-align: middle;\n    }\n\n    .dataframe tbody tr th {\n        vertical-align: top;\n    }\n\n    .dataframe thead th {\n        text-align: right;\n    }\n</style>\n<table border=\"1\" class=\"dataframe\">\n  <thead>\n    <tr style=\"text-align: right;\">\n      <th></th>\n      <th>0</th>\n    </tr>\n    <tr>\n      <th>Age Ranges</th>\n      <th></th>\n    </tr>\n  </thead>\n  <tbody>\n    <tr>\n      <th>&lt;10</th>\n      <td>4.537059</td>\n    </tr>\n    <tr>\n      <th>10-14</th>\n      <td>3.762727</td>\n    </tr>\n    <tr>\n      <th>15-19</th>\n      <td>3.858785</td>\n    </tr>\n    <tr>\n      <th>20-24</th>\n      <td>4.318062</td>\n    </tr>\n    <tr>\n      <th>25-29</th>\n      <td>3.805195</td>\n    </tr>\n    <tr>\n      <th>30-34</th>\n      <td>4.115385</td>\n    </tr>\n    <tr>\n      <th>35-39</th>\n      <td>4.763548</td>\n    </tr>\n    <tr>\n      <th>40+</th>\n      <td>3.186667</td>\n    </tr>\n  </tbody>\n</table>\n</div>"
     },
     "metadata": {},
     "execution_count": 648
    }
   ],
   "source": [
    "# Find the average total purchase per person by age range\n",
    "atpp_age = pd.DataFrame(tpv_age / unique_age_count)\n",
    "atpp_age"
   ]
  },
  {
   "cell_type": "code",
   "execution_count": 649,
   "metadata": {},
   "outputs": [
    {
     "output_type": "execute_result",
     "data": {
      "text/plain": [
       "             SN   Price_x  Price_y         0\n",
       "Age Ranges                                  \n",
       "<10          23  3.353478    77.13  4.537059\n",
       "10-14        28  2.956429    82.78  3.762727\n",
       "15-19       136  3.035956   412.89  3.858785\n",
       "20-24       365  3.052219  1114.06  4.318062\n",
       "25-29       101  2.900990   293.00  3.805195\n",
       "30-34        73  2.931507   214.00  4.115385\n",
       "35-39        41  3.601707   147.67  4.763548\n",
       "40+          13  2.941538    38.24  3.186667"
      ],
      "text/html": "<div>\n<style scoped>\n    .dataframe tbody tr th:only-of-type {\n        vertical-align: middle;\n    }\n\n    .dataframe tbody tr th {\n        vertical-align: top;\n    }\n\n    .dataframe thead th {\n        text-align: right;\n    }\n</style>\n<table border=\"1\" class=\"dataframe\">\n  <thead>\n    <tr style=\"text-align: right;\">\n      <th></th>\n      <th>SN</th>\n      <th>Price_x</th>\n      <th>Price_y</th>\n      <th>0</th>\n    </tr>\n    <tr>\n      <th>Age Ranges</th>\n      <th></th>\n      <th></th>\n      <th></th>\n      <th></th>\n    </tr>\n  </thead>\n  <tbody>\n    <tr>\n      <th>&lt;10</th>\n      <td>23</td>\n      <td>3.353478</td>\n      <td>77.13</td>\n      <td>4.537059</td>\n    </tr>\n    <tr>\n      <th>10-14</th>\n      <td>28</td>\n      <td>2.956429</td>\n      <td>82.78</td>\n      <td>3.762727</td>\n    </tr>\n    <tr>\n      <th>15-19</th>\n      <td>136</td>\n      <td>3.035956</td>\n      <td>412.89</td>\n      <td>3.858785</td>\n    </tr>\n    <tr>\n      <th>20-24</th>\n      <td>365</td>\n      <td>3.052219</td>\n      <td>1114.06</td>\n      <td>4.318062</td>\n    </tr>\n    <tr>\n      <th>25-29</th>\n      <td>101</td>\n      <td>2.900990</td>\n      <td>293.00</td>\n      <td>3.805195</td>\n    </tr>\n    <tr>\n      <th>30-34</th>\n      <td>73</td>\n      <td>2.931507</td>\n      <td>214.00</td>\n      <td>4.115385</td>\n    </tr>\n    <tr>\n      <th>35-39</th>\n      <td>41</td>\n      <td>3.601707</td>\n      <td>147.67</td>\n      <td>4.763548</td>\n    </tr>\n    <tr>\n      <th>40+</th>\n      <td>13</td>\n      <td>2.941538</td>\n      <td>38.24</td>\n      <td>3.186667</td>\n    </tr>\n  </tbody>\n</table>\n</div>"
     },
     "metadata": {},
     "execution_count": 649
    }
   ],
   "source": [
    "# Create a summary data frame to hold the results\n",
    "age_purchase_summary = pc_age.merge(app_age, left_index=True, right_index=True)\n",
    "age_purchase_summary = age_purchase_summary.merge(tpv_age, left_index=True, right_index=True)\n",
    "summary_age_purchase = age_purchase_summary.merge(atpp_age, left_index=True, right_index=True)\n",
    "summary_age_purchase"
   ]
  },
  {
   "cell_type": "code",
   "execution_count": 650,
   "metadata": {},
   "outputs": [],
   "source": [
    "# Give the displayed data cleaner formatting\n",
    "summary_age_purchase.columns = [\"Purchase Count\", \"Average Purchase Price\", \"Total Purchase Value\", \"Ave Total Purchase per Person\"]\n",
    "summary_age_purchase[\"Average Purchase Price\"] = summary_age_purchase[\"Average Purchase Price\"].map(\"${:.2F}\".format)\n",
    "summary_age_purchase[\"Total Purchase Value\"] = summary_age_purchase[\"Total Purchase Value\"].map(\"${:.2F}\".format)\n",
    "summary_age_purchase[\"Ave Total Purchase per Person\"] = summary_age_purchase[\"Ave Total Purchase per Person\"].map(\"${:.2F}\".format)"
   ]
  },
  {
   "cell_type": "code",
   "execution_count": 740,
   "metadata": {},
   "outputs": [
    {
     "output_type": "execute_result",
     "data": {
      "text/plain": [
       "            Purchase Count Average Purchase Price Total Purchase Value  \\\n",
       "Age Ranges                                                               \n",
       "<10                     23                  $3.35               $77.13   \n",
       "10-14                   28                  $2.96               $82.78   \n",
       "15-19                  136                  $3.04              $412.89   \n",
       "20-24                  365                  $3.05             $1114.06   \n",
       "25-29                  101                  $2.90              $293.00   \n",
       "30-34                   73                  $2.93              $214.00   \n",
       "35-39                   41                  $3.60              $147.67   \n",
       "40+                     13                  $2.94               $38.24   \n",
       "\n",
       "           Ave Total Purchase per Person  \n",
       "Age Ranges                                \n",
       "<10                                $4.54  \n",
       "10-14                              $3.76  \n",
       "15-19                              $3.86  \n",
       "20-24                              $4.32  \n",
       "25-29                              $3.81  \n",
       "30-34                              $4.12  \n",
       "35-39                              $4.76  \n",
       "40+                                $3.19  "
      ],
      "text/html": "<div>\n<style scoped>\n    .dataframe tbody tr th:only-of-type {\n        vertical-align: middle;\n    }\n\n    .dataframe tbody tr th {\n        vertical-align: top;\n    }\n\n    .dataframe thead th {\n        text-align: right;\n    }\n</style>\n<table border=\"1\" class=\"dataframe\">\n  <thead>\n    <tr style=\"text-align: right;\">\n      <th></th>\n      <th>Purchase Count</th>\n      <th>Average Purchase Price</th>\n      <th>Total Purchase Value</th>\n      <th>Ave Total Purchase per Person</th>\n    </tr>\n    <tr>\n      <th>Age Ranges</th>\n      <th></th>\n      <th></th>\n      <th></th>\n      <th></th>\n    </tr>\n  </thead>\n  <tbody>\n    <tr>\n      <th>&lt;10</th>\n      <td>23</td>\n      <td>$3.35</td>\n      <td>$77.13</td>\n      <td>$4.54</td>\n    </tr>\n    <tr>\n      <th>10-14</th>\n      <td>28</td>\n      <td>$2.96</td>\n      <td>$82.78</td>\n      <td>$3.76</td>\n    </tr>\n    <tr>\n      <th>15-19</th>\n      <td>136</td>\n      <td>$3.04</td>\n      <td>$412.89</td>\n      <td>$3.86</td>\n    </tr>\n    <tr>\n      <th>20-24</th>\n      <td>365</td>\n      <td>$3.05</td>\n      <td>$1114.06</td>\n      <td>$4.32</td>\n    </tr>\n    <tr>\n      <th>25-29</th>\n      <td>101</td>\n      <td>$2.90</td>\n      <td>$293.00</td>\n      <td>$3.81</td>\n    </tr>\n    <tr>\n      <th>30-34</th>\n      <td>73</td>\n      <td>$2.93</td>\n      <td>$214.00</td>\n      <td>$4.12</td>\n    </tr>\n    <tr>\n      <th>35-39</th>\n      <td>41</td>\n      <td>$3.60</td>\n      <td>$147.67</td>\n      <td>$4.76</td>\n    </tr>\n    <tr>\n      <th>40+</th>\n      <td>13</td>\n      <td>$2.94</td>\n      <td>$38.24</td>\n      <td>$3.19</td>\n    </tr>\n  </tbody>\n</table>\n</div>"
     },
     "metadata": {},
     "execution_count": 740
    }
   ],
   "source": [
    "# Display the summary data frame\n",
    "summary_age_purchase"
   ]
  },
  {
   "cell_type": "markdown",
   "metadata": {},
   "source": [
    "## Top Spenders"
   ]
  },
  {
   "cell_type": "markdown",
   "metadata": {},
   "source": [
    "* Run basic calculations to obtain the results in the table below\n",
    "\n",
    "\n",
    "* Create a summary data frame to hold the results\n",
    "\n",
    "\n",
    "* Sort the total purchase value column in descending order\n",
    "\n",
    "\n",
    "* Optional: give the displayed data cleaner formatting\n",
    "\n",
    "\n",
    "* Display a preview of the summary data frame\n",
    "\n"
   ]
  },
  {
   "cell_type": "code",
   "execution_count": 749,
   "metadata": {},
   "outputs": [
    {
     "output_type": "execute_result",
     "data": {
      "text/plain": [
       "                SN  Purchase ID  Price\n",
       "0          Lisim78            0   3.53\n",
       "1      Lisovynya38            1   1.56\n",
       "2       Ithergue48            2   4.88\n",
       "3    Chamassasya86            3   3.27\n",
       "4        Iskosia90            4   1.44\n",
       "..             ...          ...    ...\n",
       "775     Aethedru70          775   3.54\n",
       "776         Iral74          776   1.63\n",
       "777     Yathecal72          777   3.46\n",
       "778        Sisur91          778   4.19\n",
       "779      Ennrian78          779   4.60\n",
       "\n",
       "[780 rows x 3 columns]"
      ],
      "text/html": "<div>\n<style scoped>\n    .dataframe tbody tr th:only-of-type {\n        vertical-align: middle;\n    }\n\n    .dataframe tbody tr th {\n        vertical-align: top;\n    }\n\n    .dataframe thead th {\n        text-align: right;\n    }\n</style>\n<table border=\"1\" class=\"dataframe\">\n  <thead>\n    <tr style=\"text-align: right;\">\n      <th></th>\n      <th>SN</th>\n      <th>Purchase ID</th>\n      <th>Price</th>\n    </tr>\n  </thead>\n  <tbody>\n    <tr>\n      <th>0</th>\n      <td>Lisim78</td>\n      <td>0</td>\n      <td>3.53</td>\n    </tr>\n    <tr>\n      <th>1</th>\n      <td>Lisovynya38</td>\n      <td>1</td>\n      <td>1.56</td>\n    </tr>\n    <tr>\n      <th>2</th>\n      <td>Ithergue48</td>\n      <td>2</td>\n      <td>4.88</td>\n    </tr>\n    <tr>\n      <th>3</th>\n      <td>Chamassasya86</td>\n      <td>3</td>\n      <td>3.27</td>\n    </tr>\n    <tr>\n      <th>4</th>\n      <td>Iskosia90</td>\n      <td>4</td>\n      <td>1.44</td>\n    </tr>\n    <tr>\n      <th>...</th>\n      <td>...</td>\n      <td>...</td>\n      <td>...</td>\n    </tr>\n    <tr>\n      <th>775</th>\n      <td>Aethedru70</td>\n      <td>775</td>\n      <td>3.54</td>\n    </tr>\n    <tr>\n      <th>776</th>\n      <td>Iral74</td>\n      <td>776</td>\n      <td>1.63</td>\n    </tr>\n    <tr>\n      <th>777</th>\n      <td>Yathecal72</td>\n      <td>777</td>\n      <td>3.46</td>\n    </tr>\n    <tr>\n      <th>778</th>\n      <td>Sisur91</td>\n      <td>778</td>\n      <td>4.19</td>\n    </tr>\n    <tr>\n      <th>779</th>\n      <td>Ennrian78</td>\n      <td>779</td>\n      <td>4.60</td>\n    </tr>\n  </tbody>\n</table>\n<p>780 rows × 3 columns</p>\n</div>"
     },
     "metadata": {},
     "execution_count": 749
    }
   ],
   "source": [
    "spenders_df = purchase_data[[\"SN\", \"Purchase ID\", \"Price\"]]\n",
    "spenders_df"
   ]
  },
  {
   "cell_type": "code",
   "execution_count": 764,
   "metadata": {},
   "outputs": [
    {
     "output_type": "execute_result",
     "data": {
      "text/plain": [
       "               Purchase ID  Price\n",
       "SN                               \n",
       "Adairialis76             1      1\n",
       "Adastirin33              1      1\n",
       "Aeda94                   1      1\n",
       "Aela59                   1      1\n",
       "Aelaria33                1      1\n",
       "...                    ...    ...\n",
       "Yathecal82               3      3\n",
       "Yathedeu43               2      2\n",
       "Yoishirrala98            1      1\n",
       "Zhisrisu83               2      2\n",
       "Zontibe81                3      3\n",
       "\n",
       "[576 rows x 2 columns]"
      ],
      "text/html": "<div>\n<style scoped>\n    .dataframe tbody tr th:only-of-type {\n        vertical-align: middle;\n    }\n\n    .dataframe tbody tr th {\n        vertical-align: top;\n    }\n\n    .dataframe thead th {\n        text-align: right;\n    }\n</style>\n<table border=\"1\" class=\"dataframe\">\n  <thead>\n    <tr style=\"text-align: right;\">\n      <th></th>\n      <th>Purchase ID</th>\n      <th>Price</th>\n    </tr>\n    <tr>\n      <th>SN</th>\n      <th></th>\n      <th></th>\n    </tr>\n  </thead>\n  <tbody>\n    <tr>\n      <th>Adairialis76</th>\n      <td>1</td>\n      <td>1</td>\n    </tr>\n    <tr>\n      <th>Adastirin33</th>\n      <td>1</td>\n      <td>1</td>\n    </tr>\n    <tr>\n      <th>Aeda94</th>\n      <td>1</td>\n      <td>1</td>\n    </tr>\n    <tr>\n      <th>Aela59</th>\n      <td>1</td>\n      <td>1</td>\n    </tr>\n    <tr>\n      <th>Aelaria33</th>\n      <td>1</td>\n      <td>1</td>\n    </tr>\n    <tr>\n      <th>...</th>\n      <td>...</td>\n      <td>...</td>\n    </tr>\n    <tr>\n      <th>Yathecal82</th>\n      <td>3</td>\n      <td>3</td>\n    </tr>\n    <tr>\n      <th>Yathedeu43</th>\n      <td>2</td>\n      <td>2</td>\n    </tr>\n    <tr>\n      <th>Yoishirrala98</th>\n      <td>1</td>\n      <td>1</td>\n    </tr>\n    <tr>\n      <th>Zhisrisu83</th>\n      <td>2</td>\n      <td>2</td>\n    </tr>\n    <tr>\n      <th>Zontibe81</th>\n      <td>3</td>\n      <td>3</td>\n    </tr>\n  </tbody>\n</table>\n<p>576 rows × 2 columns</p>\n</div>"
     },
     "metadata": {},
     "execution_count": 764
    }
   ],
   "source": [
    "big_spenders = spenders_df.groupby(\"SN\")\n",
    "big_spenders.count()"
   ]
  },
  {
   "cell_type": "code",
   "execution_count": 770,
   "metadata": {},
   "outputs": [
    {
     "output_type": "execute_result",
     "data": {
      "text/plain": [
       "               Purchase ID\n",
       "SN                        \n",
       "Adairialis76             1\n",
       "Adastirin33              1\n",
       "Aeda94                   1\n",
       "Aela59                   1\n",
       "Aelaria33                1\n",
       "...                    ...\n",
       "Yathecal82               3\n",
       "Yathedeu43               2\n",
       "Yoishirrala98            1\n",
       "Zhisrisu83               2\n",
       "Zontibe81                3\n",
       "\n",
       "[576 rows x 1 columns]"
      ],
      "text/html": "<div>\n<style scoped>\n    .dataframe tbody tr th:only-of-type {\n        vertical-align: middle;\n    }\n\n    .dataframe tbody tr th {\n        vertical-align: top;\n    }\n\n    .dataframe thead th {\n        text-align: right;\n    }\n</style>\n<table border=\"1\" class=\"dataframe\">\n  <thead>\n    <tr style=\"text-align: right;\">\n      <th></th>\n      <th>Purchase ID</th>\n    </tr>\n    <tr>\n      <th>SN</th>\n      <th></th>\n    </tr>\n  </thead>\n  <tbody>\n    <tr>\n      <th>Adairialis76</th>\n      <td>1</td>\n    </tr>\n    <tr>\n      <th>Adastirin33</th>\n      <td>1</td>\n    </tr>\n    <tr>\n      <th>Aeda94</th>\n      <td>1</td>\n    </tr>\n    <tr>\n      <th>Aela59</th>\n      <td>1</td>\n    </tr>\n    <tr>\n      <th>Aelaria33</th>\n      <td>1</td>\n    </tr>\n    <tr>\n      <th>...</th>\n      <td>...</td>\n    </tr>\n    <tr>\n      <th>Yathecal82</th>\n      <td>3</td>\n    </tr>\n    <tr>\n      <th>Yathedeu43</th>\n      <td>2</td>\n    </tr>\n    <tr>\n      <th>Yoishirrala98</th>\n      <td>1</td>\n    </tr>\n    <tr>\n      <th>Zhisrisu83</th>\n      <td>2</td>\n    </tr>\n    <tr>\n      <th>Zontibe81</th>\n      <td>3</td>\n    </tr>\n  </tbody>\n</table>\n<p>576 rows × 1 columns</p>\n</div>"
     },
     "metadata": {},
     "execution_count": 770
    }
   ],
   "source": [
    "pc_bigspenders = pd.DataFrame(big_spenders[\"Purchase ID\"].count())\n",
    "pc_bigspenders"
   ]
  },
  {
   "cell_type": "code",
   "execution_count": 771,
   "metadata": {},
   "outputs": [
    {
     "output_type": "execute_result",
     "data": {
      "text/plain": [
       "SN\n",
       "Adairialis76     2.280000\n",
       "Adastirin33      4.480000\n",
       "Aeda94           4.910000\n",
       "Aela59           4.320000\n",
       "Aelaria33        1.790000\n",
       "                   ...   \n",
       "Yathecal82       2.073333\n",
       "Yathedeu43       3.010000\n",
       "Yoishirrala98    4.580000\n",
       "Zhisrisu83       3.945000\n",
       "Zontibe81        2.676667\n",
       "Name: Price, Length: 576, dtype: float64"
      ]
     },
     "metadata": {},
     "execution_count": 771
    }
   ],
   "source": [
    "app_bigspenders = big_spenders[\"Price\"].mean()\n",
    "app_bigspenders"
   ]
  },
  {
   "cell_type": "code",
   "execution_count": 772,
   "metadata": {},
   "outputs": [
    {
     "output_type": "execute_result",
     "data": {
      "text/plain": [
       "SN\n",
       "Adairialis76     2.28\n",
       "Adastirin33      4.48\n",
       "Aeda94           4.91\n",
       "Aela59           4.32\n",
       "Aelaria33        1.79\n",
       "                 ... \n",
       "Yathecal82       6.22\n",
       "Yathedeu43       6.02\n",
       "Yoishirrala98    4.58\n",
       "Zhisrisu83       7.89\n",
       "Zontibe81        8.03\n",
       "Name: Price, Length: 576, dtype: float64"
      ]
     },
     "metadata": {},
     "execution_count": 772
    }
   ],
   "source": [
    "tpv_bigspenders = big_spenders[\"Price\"].sum()\n",
    "tpv_bigspenders"
   ]
  },
  {
   "cell_type": "code",
   "execution_count": 779,
   "metadata": {},
   "outputs": [
    {
     "output_type": "execute_result",
     "data": {
      "text/plain": [
       "               Purchase ID   Price_x  Price_y\n",
       "SN                                           \n",
       "Adairialis76             1  2.280000     2.28\n",
       "Adastirin33              1  4.480000     4.48\n",
       "Aeda94                   1  4.910000     4.91\n",
       "Aela59                   1  4.320000     4.32\n",
       "Aelaria33                1  1.790000     1.79\n",
       "...                    ...       ...      ...\n",
       "Yathecal82               3  2.073333     6.22\n",
       "Yathedeu43               2  3.010000     6.02\n",
       "Yoishirrala98            1  4.580000     4.58\n",
       "Zhisrisu83               2  3.945000     7.89\n",
       "Zontibe81                3  2.676667     8.03\n",
       "\n",
       "[576 rows x 3 columns]"
      ],
      "text/html": "<div>\n<style scoped>\n    .dataframe tbody tr th:only-of-type {\n        vertical-align: middle;\n    }\n\n    .dataframe tbody tr th {\n        vertical-align: top;\n    }\n\n    .dataframe thead th {\n        text-align: right;\n    }\n</style>\n<table border=\"1\" class=\"dataframe\">\n  <thead>\n    <tr style=\"text-align: right;\">\n      <th></th>\n      <th>Purchase ID</th>\n      <th>Price_x</th>\n      <th>Price_y</th>\n    </tr>\n    <tr>\n      <th>SN</th>\n      <th></th>\n      <th></th>\n      <th></th>\n    </tr>\n  </thead>\n  <tbody>\n    <tr>\n      <th>Adairialis76</th>\n      <td>1</td>\n      <td>2.280000</td>\n      <td>2.28</td>\n    </tr>\n    <tr>\n      <th>Adastirin33</th>\n      <td>1</td>\n      <td>4.480000</td>\n      <td>4.48</td>\n    </tr>\n    <tr>\n      <th>Aeda94</th>\n      <td>1</td>\n      <td>4.910000</td>\n      <td>4.91</td>\n    </tr>\n    <tr>\n      <th>Aela59</th>\n      <td>1</td>\n      <td>4.320000</td>\n      <td>4.32</td>\n    </tr>\n    <tr>\n      <th>Aelaria33</th>\n      <td>1</td>\n      <td>1.790000</td>\n      <td>1.79</td>\n    </tr>\n    <tr>\n      <th>...</th>\n      <td>...</td>\n      <td>...</td>\n      <td>...</td>\n    </tr>\n    <tr>\n      <th>Yathecal82</th>\n      <td>3</td>\n      <td>2.073333</td>\n      <td>6.22</td>\n    </tr>\n    <tr>\n      <th>Yathedeu43</th>\n      <td>2</td>\n      <td>3.010000</td>\n      <td>6.02</td>\n    </tr>\n    <tr>\n      <th>Yoishirrala98</th>\n      <td>1</td>\n      <td>4.580000</td>\n      <td>4.58</td>\n    </tr>\n    <tr>\n      <th>Zhisrisu83</th>\n      <td>2</td>\n      <td>3.945000</td>\n      <td>7.89</td>\n    </tr>\n    <tr>\n      <th>Zontibe81</th>\n      <td>3</td>\n      <td>2.676667</td>\n      <td>8.03</td>\n    </tr>\n  </tbody>\n</table>\n<p>576 rows × 3 columns</p>\n</div>"
     },
     "metadata": {},
     "execution_count": 779
    }
   ],
   "source": [
    "spender_purchase_summary = pc_bigspenders.merge(app_bigspenders, left_index=True, right_index=True)\n",
    "summary_spender_purchase = spender_purchase_summary.merge(tpv_bigspenders, left_index=True, right_index=True)\n",
    "summary_spender_purchase"
   ]
  },
  {
   "cell_type": "code",
   "execution_count": 780,
   "metadata": {},
   "outputs": [
    {
     "output_type": "execute_result",
     "data": {
      "text/plain": [
       "               SN  Purchase Count Average Purchase Price Total Purchase Value\n",
       "0    Haillyrgue51               3                  $3.17                $9.50\n",
       "1       Phistym51               2                  $4.75                $9.50\n",
       "2         Lamil79               2                  $4.64                $9.29\n",
       "3          Aina42               3                  $3.07                $9.22\n",
       "4     Saesrideu94               2                  $4.59                $9.18\n",
       "..            ...             ...                    ...                  ...\n",
       "571   Qilalista41               1                  $1.02                $1.02\n",
       "572   Ililsasya43               1                  $1.02                $1.02\n",
       "573       Aidai61               1                  $1.01                $1.01\n",
       "574    Chanirra79               1                  $1.01                $1.01\n",
       "575         Alo38               1                  $1.00                $1.00\n",
       "\n",
       "[576 rows x 4 columns]"
      ],
      "text/html": "<div>\n<style scoped>\n    .dataframe tbody tr th:only-of-type {\n        vertical-align: middle;\n    }\n\n    .dataframe tbody tr th {\n        vertical-align: top;\n    }\n\n    .dataframe thead th {\n        text-align: right;\n    }\n</style>\n<table border=\"1\" class=\"dataframe\">\n  <thead>\n    <tr style=\"text-align: right;\">\n      <th></th>\n      <th>SN</th>\n      <th>Purchase Count</th>\n      <th>Average Purchase Price</th>\n      <th>Total Purchase Value</th>\n    </tr>\n  </thead>\n  <tbody>\n    <tr>\n      <th>0</th>\n      <td>Haillyrgue51</td>\n      <td>3</td>\n      <td>$3.17</td>\n      <td>$9.50</td>\n    </tr>\n    <tr>\n      <th>1</th>\n      <td>Phistym51</td>\n      <td>2</td>\n      <td>$4.75</td>\n      <td>$9.50</td>\n    </tr>\n    <tr>\n      <th>2</th>\n      <td>Lamil79</td>\n      <td>2</td>\n      <td>$4.64</td>\n      <td>$9.29</td>\n    </tr>\n    <tr>\n      <th>3</th>\n      <td>Aina42</td>\n      <td>3</td>\n      <td>$3.07</td>\n      <td>$9.22</td>\n    </tr>\n    <tr>\n      <th>4</th>\n      <td>Saesrideu94</td>\n      <td>2</td>\n      <td>$4.59</td>\n      <td>$9.18</td>\n    </tr>\n    <tr>\n      <th>...</th>\n      <td>...</td>\n      <td>...</td>\n      <td>...</td>\n      <td>...</td>\n    </tr>\n    <tr>\n      <th>571</th>\n      <td>Qilalista41</td>\n      <td>1</td>\n      <td>$1.02</td>\n      <td>$1.02</td>\n    </tr>\n    <tr>\n      <th>572</th>\n      <td>Ililsasya43</td>\n      <td>1</td>\n      <td>$1.02</td>\n      <td>$1.02</td>\n    </tr>\n    <tr>\n      <th>573</th>\n      <td>Aidai61</td>\n      <td>1</td>\n      <td>$1.01</td>\n      <td>$1.01</td>\n    </tr>\n    <tr>\n      <th>574</th>\n      <td>Chanirra79</td>\n      <td>1</td>\n      <td>$1.01</td>\n      <td>$1.01</td>\n    </tr>\n    <tr>\n      <th>575</th>\n      <td>Alo38</td>\n      <td>1</td>\n      <td>$1.00</td>\n      <td>$1.00</td>\n    </tr>\n  </tbody>\n</table>\n<p>576 rows × 4 columns</p>\n</div>"
     },
     "metadata": {},
     "execution_count": 780
    }
   ],
   "source": [
    "# Give the displayed data cleaner formatting\n",
    "summary_spender_purchase.columns = [\"Purchase Count\", \"Average Purchase Price\", \"Total Purchase Value\"]\n",
    "summary_spender_purchase[\"Average Purchase Price\"] = summary_spender_purchase[\"Average Purchase Price\"].map(\"${:.2F}\".format)\n",
    "summary_spender_purchase[\"Total Purchase Value\"] = summary_spender_purchase[\"Total Purchase Value\"].map(\"${:.2F}\".format)\n",
    "summary_spender_purchase = summary_spender_purchase.sort_values(\"Total Purchase Value\", ascending=False).reset_index()\n",
    "summary_spender_purchase"
   ]
  },
  {
   "cell_type": "code",
   "execution_count": null,
   "metadata": {},
   "outputs": [],
   "source": []
  },
  {
   "cell_type": "markdown",
   "metadata": {},
   "source": [
    "## Most Popular Items"
   ]
  },
  {
   "cell_type": "markdown",
   "metadata": {},
   "source": [
    "* Retrieve the Item ID, Item Name, and Item Price columns\n",
    "\n",
    "\n",
    "* Group by Item ID and Item Name. Perform calculations to obtain purchase count, item price, and total purchase value\n",
    "\n",
    "\n",
    "* Create a summary data frame to hold the results\n",
    "\n",
    "\n",
    "* Sort the purchase count column in descending order\n",
    "\n",
    "\n",
    "* Optional: give the displayed data cleaner formatting\n",
    "\n",
    "\n",
    "* Display a preview of the summary data frame\n",
    "\n"
   ]
  },
  {
   "cell_type": "code",
   "execution_count": null,
   "metadata": {},
   "outputs": [],
   "source": []
  },
  {
   "cell_type": "markdown",
   "metadata": {},
   "source": [
    "## Most Profitable Items"
   ]
  },
  {
   "cell_type": "markdown",
   "metadata": {},
   "source": [
    "* Sort the above table by total purchase value in descending order\n",
    "\n",
    "\n",
    "* Optional: give the displayed data cleaner formatting\n",
    "\n",
    "\n",
    "* Display a preview of the data frame\n",
    "\n"
   ]
  },
  {
   "cell_type": "code",
   "execution_count": null,
   "metadata": {
    "scrolled": true
   },
   "outputs": [],
   "source": []
  }
 ],
 "metadata": {
  "anaconda-cloud": {},
  "kernel_info": {
   "name": "python3"
  },
  "kernelspec": {
   "name": "python3",
   "display_name": "Python 3.6.10 32-bit (conda)",
   "metadata": {
    "interpreter": {
     "hash": "98d147c058c61c260060ece7a5c2e3ac8382090008ff63764f52da05ac08e910"
    }
   }
  },
  "language_info": {
   "codemirror_mode": {
    "name": "ipython",
    "version": 3
   },
   "file_extension": ".py",
   "mimetype": "text/x-python",
   "name": "python",
   "nbconvert_exporter": "python",
   "pygments_lexer": "ipython3",
   "version": "3.6.10-final"
  },
  "latex_envs": {
   "LaTeX_envs_menu_present": true,
   "autoclose": false,
   "autocomplete": true,
   "bibliofile": "biblio.bib",
   "cite_by": "apalike",
   "current_citInitial": 1,
   "eqLabelWithNumbers": true,
   "eqNumInitial": 1,
   "hotkeys": {
    "equation": "Ctrl-E",
    "itemize": "Ctrl-I"
   },
   "labels_anchors": false,
   "latex_user_defs": false,
   "report_style_numbering": false,
   "user_envs_cfg": false
  },
  "nteract": {
   "version": "0.2.0"
  }
 },
 "nbformat": 4,
 "nbformat_minor": 2
}